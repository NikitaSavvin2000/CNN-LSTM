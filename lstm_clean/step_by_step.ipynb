{
 "cells": [
  {
   "cell_type": "code",
   "execution_count": 5,
   "metadata": {
    "collapsed": true
   },
   "outputs": [],
   "source": [
    "# Задаем дату до которой теоритически будем прогнозировать\n",
    "end_future_date = '2024-12-31 23:55:00+00:00'"
   ]
  },
  {
   "cell_type": "code",
   "execution_count": 2,
   "outputs": [],
   "source": [
    "import pandas as pd\n",
    "\n",
    "# Читаем данные на которых будем обучать модель\n",
    "df_Pl = pd.read_csv('https://docs.google.com/spreadsheets/d/e/2PACX-1vRKJzXJlQSNew0dxrQ8mFQMhBv_4owvfsF2If1b-rmxMZkR5gabHC4OiaSwt8Ul1Omc8taR27UohSeg/pub?gid=429486365&single=true&output=csv')\n"
   ],
   "metadata": {
    "collapsed": false
   }
  },
  {
   "cell_type": "code",
   "execution_count": 46,
   "outputs": [],
   "source": [
    "# Узнаем последнию известную дату. Нужна для создания промежутка значений будущих дат\n",
    "end_know_date = df_Pl['time'].iloc[-1]\n",
    "\n",
    "end_know_date_index = df_Pl[df_Pl['time'] == end_know_date].index[0] + 1\n"
   ],
   "metadata": {
    "collapsed": false
   }
  },
  {
   "cell_type": "code",
   "execution_count": 40,
   "outputs": [],
   "source": [
    "import numpy as np\n",
    "\n",
    "# Создаем общий датасет с известными и будущими данными нужно для корректного общего нормирования данных\n",
    "\n",
    "# Добавляем 5 минут чтобы последняя известная дата не попала в список для генерации будущих дат\n",
    "\n",
    "end_know_date = pd.to_datetime(end_know_date)\n",
    "\n",
    "# Добавление 5 минут\n",
    "end_know_date = end_know_date + pd.Timedelta(minutes=5)\n",
    "\n",
    "# Преобразование обратно в строку\n",
    "end_know_date = end_know_date.strftime('%Y-%m-%d %H:%M:%S%z')\n",
    "\n",
    "future_dates = pd.date_range(start=end_know_date, end=end_future_date, freq='5T')\n",
    "\n",
    "future_df = pd.DataFrame({'time': future_dates, 'P_l': np.nan})\n",
    "\n",
    "avg_pl = df_Pl['P_l'].mean()\n",
    "\n",
    "# Заполняем Nan если они есть в датафрейме с известными данными\n",
    "df_Pl['P_l'].fillna(avg_pl, inplace=True)\n",
    "\n",
    "# Создаем общий датаферйм с известными и будущими датами для корректной нормировки данных относительно существующих и будущих дат\n",
    "df_Pl_sacler = pd.concat([df_Pl, future_df], ignore_index=True)\n"
   ],
   "metadata": {
    "collapsed": false
   }
  },
  {
   "cell_type": "code",
   "execution_count": 41,
   "outputs": [],
   "source": [
    "# Функция нормировки дат относительно всех дат(известных и которых хотим прогнощировать)\n",
    "\n",
    "def normalized_df(df, scaler):\n",
    "# Преобразование времени в формат datetime\n",
    "  df['time'] = pd.to_datetime(df['time'])\n",
    "  # Создание новых столбцов\n",
    "  df['year'] = df['time'].dt.year\n",
    "  df['month'] = df['time'].dt.month\n",
    "  df['day'] = df['time'].dt.day\n",
    "  df['hour'] = df['time'].dt.hour\n",
    "  df['minute'] = df['time'].dt.minute\n",
    "\n",
    "  # Удаление исходной колонки времени\n",
    "  df = df.drop('time', axis=1)\n",
    "\n",
    "  # Нормализация данных\n",
    "  df_normalized = pd.DataFrame(scaler.fit_transform(df), columns=df.columns)\n",
    "  return df_normalized\n",
    "\n",
    "# Обратное масштабирование данных времени\n",
    "def restored_date(df_normalized, scaler):\n",
    "  df_restored = pd.DataFrame(scaler.inverse_transform(df_normalized), columns=df_normalized.columns)\n",
    "  df_restored['time'] = pd.to_datetime(df_restored[['year', 'month', 'day', 'hour', 'minute']])\n",
    "  df_restored = df_restored.drop(['year', 'month', 'day', 'hour', 'minute'], axis=1)\n",
    "  return df_restored"
   ],
   "metadata": {
    "collapsed": false
   }
  },
  {
   "cell_type": "code",
   "execution_count": 47,
   "outputs": [],
   "source": [
    "from sklearn.preprocessing import MinMaxScaler\n",
    "\n",
    "# Нормализация всех данных существующих и будущих\n",
    "scaler = MinMaxScaler(feature_range=(0, 1))\n",
    "\n",
    "df_Pl_normalized_all_dates = normalized_df(df_Pl_sacler, scaler)\n"
   ],
   "metadata": {
    "collapsed": false
   }
  },
  {
   "cell_type": "code",
   "execution_count": 48,
   "outputs": [],
   "source": [
    "# Данные для обучения отнормированные относительно всего промежутка(известных дат и дат для прогноза)\n",
    "\n",
    "df_Pl_normalized_initial_dates = df_Pl_normalized_all_dates.dropna()\n"
   ],
   "metadata": {
    "collapsed": false
   }
  },
  {
   "cell_type": "code",
   "execution_count": 49,
   "outputs": [],
   "source": [
    "df_Pl_normalized_future_dates = df_Pl_normalized_all_dates.loc[end_know_date_index :]\n"
   ],
   "metadata": {
    "collapsed": false
   }
  },
  {
   "cell_type": "code",
   "execution_count": 50,
   "outputs": [
    {
     "data": {
      "text/plain": "        P_l                time\n0       NaN 2023-09-11 15:05:00\n1       NaN 2023-09-11 15:10:00\n2       NaN 2023-09-11 15:15:00\n3       NaN 2023-09-11 15:20:00\n4       NaN 2023-09-11 15:25:00\n...     ...                 ...\n137478  NaN 2024-12-31 23:35:00\n137479  NaN 2024-12-31 23:40:00\n137480  NaN 2024-12-31 23:45:00\n137481  NaN 2024-12-31 23:50:00\n137482  NaN 2024-12-31 23:55:00\n\n[137483 rows x 2 columns]",
      "text/html": "<div>\n<style scoped>\n    .dataframe tbody tr th:only-of-type {\n        vertical-align: middle;\n    }\n\n    .dataframe tbody tr th {\n        vertical-align: top;\n    }\n\n    .dataframe thead th {\n        text-align: right;\n    }\n</style>\n<table border=\"1\" class=\"dataframe\">\n  <thead>\n    <tr style=\"text-align: right;\">\n      <th></th>\n      <th>P_l</th>\n      <th>time</th>\n    </tr>\n  </thead>\n  <tbody>\n    <tr>\n      <th>0</th>\n      <td>NaN</td>\n      <td>2023-09-11 15:05:00</td>\n    </tr>\n    <tr>\n      <th>1</th>\n      <td>NaN</td>\n      <td>2023-09-11 15:10:00</td>\n    </tr>\n    <tr>\n      <th>2</th>\n      <td>NaN</td>\n      <td>2023-09-11 15:15:00</td>\n    </tr>\n    <tr>\n      <th>3</th>\n      <td>NaN</td>\n      <td>2023-09-11 15:20:00</td>\n    </tr>\n    <tr>\n      <th>4</th>\n      <td>NaN</td>\n      <td>2023-09-11 15:25:00</td>\n    </tr>\n    <tr>\n      <th>...</th>\n      <td>...</td>\n      <td>...</td>\n    </tr>\n    <tr>\n      <th>137478</th>\n      <td>NaN</td>\n      <td>2024-12-31 23:35:00</td>\n    </tr>\n    <tr>\n      <th>137479</th>\n      <td>NaN</td>\n      <td>2024-12-31 23:40:00</td>\n    </tr>\n    <tr>\n      <th>137480</th>\n      <td>NaN</td>\n      <td>2024-12-31 23:45:00</td>\n    </tr>\n    <tr>\n      <th>137481</th>\n      <td>NaN</td>\n      <td>2024-12-31 23:50:00</td>\n    </tr>\n    <tr>\n      <th>137482</th>\n      <td>NaN</td>\n      <td>2024-12-31 23:55:00</td>\n    </tr>\n  </tbody>\n</table>\n<p>137483 rows × 2 columns</p>\n</div>"
     },
     "execution_count": 50,
     "metadata": {},
     "output_type": "execute_result"
    }
   ],
   "source": [
    "restored_date(df_Pl_normalized_future_dates, scaler)"
   ],
   "metadata": {
    "collapsed": false
   }
  },
  {
   "cell_type": "code",
   "execution_count": null,
   "outputs": [],
   "source": [],
   "metadata": {
    "collapsed": false,
    "pycharm": {
     "is_executing": true
    }
   }
  },
  {
   "cell_type": "code",
   "execution_count": 38,
   "outputs": [],
   "source": [],
   "metadata": {
    "collapsed": false
   }
  }
 ],
 "metadata": {
  "kernelspec": {
   "display_name": "Python 3",
   "language": "python",
   "name": "python3"
  },
  "language_info": {
   "codemirror_mode": {
    "name": "ipython",
    "version": 2
   },
   "file_extension": ".py",
   "mimetype": "text/x-python",
   "name": "python",
   "nbconvert_exporter": "python",
   "pygments_lexer": "ipython2",
   "version": "2.7.6"
  }
 },
 "nbformat": 4,
 "nbformat_minor": 0
}
