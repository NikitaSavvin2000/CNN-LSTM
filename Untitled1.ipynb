{
 "nbformat": 4,
 "nbformat_minor": 0,
 "metadata": {
  "colab": {
   "provenance": [],
   "authorship_tag": "ABX9TyOYbvOGWFK+E5cGzJC9sDVv",
   "include_colab_link": true
  },
  "kernelspec": {
   "name": "python3",
   "display_name": "Python 3"
  },
  "language_info": {
   "name": "python"
  }
 },
 "cells": [
  {
   "cell_type": "code",
   "source": [
    "import numpy as np\n",
    "import pandas as pd\n",
    "import matplotlib.pyplot as plt\n",
    "from sklearn.model_selection import train_test_split\n",
    "from sklearn.preprocessing import MinMaxScaler\n",
    "from tensorflow.keras.models import Sequential\n",
    "from tensorflow.keras.layers import LSTM, Conv1D, Dense, Flatten\n",
    "from tensorflow.keras.optimizers import Adam\n",
    "\n",
    "\n",
    "def normalized_df(df, scaler):\n",
    "# Преобразование времени в формат datetime\n",
    "  df['time'] = pd.to_datetime(df['time'])\n",
    "  # Создание новых столбцов\n",
    "  df['year'] = df['time'].dt.year\n",
    "  df['month'] = df['time'].dt.month\n",
    "  df['day'] = df['time'].dt.day\n",
    "  df['hour'] = df['time'].dt.hour\n",
    "  df['minute'] = df['time'].dt.minute\n",
    "\n",
    "  # Удаление исходной колонки времени\n",
    "  df = df.drop('time', axis=1)\n",
    "\n",
    "  # Нормализация данных\n",
    "  df_normalized = pd.DataFrame(scaler.fit_transform(df), columns=df.columns)\n",
    "  return df_normalized\n",
    "\n",
    "# Обратное масштабирование данных времени\n",
    "def restored_date(df_normalized, scaler):\n",
    "  df_restored = pd.DataFrame(scaler.inverse_transform(df_normalized), columns=df_normalized.columns)\n",
    "  df_restored['time'] = pd.to_datetime(df_restored[['year', 'month', 'day', 'hour', 'minute']])\n",
    "  return df_restored\n",
    "\n",
    "\n",
    "df_Pl = pd.read_csv('https://docs.google.com/spreadsheets/d/e/2PACX-1vRKJzXJlQSNew0dxrQ8mFQMhBv_4owvfsF2If1b-rmxMZkR5gabHC4OiaSwt8Ul1Omc8taR27UohSeg/pub?gid=429486365&single=true&output=csv')\n",
    "nan_indices = df_Pl.index[df_Pl['P_l'].isna()]\n",
    "# Заменяем NaN на 0, чтобы модель могла обучиться на них\n",
    "df_Pl['P_l'].fillna(0, inplace=True)\n",
    "scaler = MinMaxScaler()\n",
    "\n",
    "df_Pl = normalized_df(df_Pl, scaler)\n",
    "X = df_Pl[['year', 'month', 'day', 'hour', 'minute']].values\n",
    "y = df_Pl['P_l'].values\n",
    "X_train, X_test, y_train, y_test = train_test_split(X, y, test_size=0.2, random_state=42)\n",
    "# Создание обучающего и тестового наборов данных\n",
    "X_train = X_train.reshape(-1, 1, 5)\n",
    "X_test = X_test.reshape(-1, 1, 5)\n",
    "\n",
    "# Создание модели\n",
    "model = Sequential()\n",
    "model.add(LSTM(64, activation='relu', return_sequences=True, input_shape=(X_train.shape[1], X_train.shape[2])))\n",
    "model.add(Dense(1))\n",
    "\n",
    "# Компиляция модели\n",
    "model.compile(optimizer=Adam(learning_rate=0.000001), loss='mse')\n",
    "\n",
    "# Обучение модели\n",
    "history = model.fit(X_train, y_train, epochs=50, batch_size=186, validation_data=(X_test, y_test))\n",
    "\n",
    "# Построение графиков обучения\n",
    "plt.figure(figsize=(12, 6))\n",
    "plt.plot(history.history['loss'], label='Training Loss')\n",
    "plt.plot(history.history['val_loss'], label='Validation Loss')\n",
    "plt.xlabel('Epoch')\n",
    "plt.ylabel('Loss')\n",
    "plt.legend()\n",
    "plt.show()\n",
    "\n",
    "# Заполняем пропущенные значения с помощью обученной модели\n",
    "\n"
   ],
   "metadata": {
    "colab": {
     "base_uri": "https://localhost:8080/",
     "height": 1000
    },
    "id": "Q3SdFIRyiPy2",
    "outputId": "8c9e123f-1199-47b9-b64f-e45bd1a7f338"
   },
   "execution_count": 25,
   "outputs": [
    {
     "metadata": {
      "tags": null
     },
     "name": "stdout",
     "output_type": "stream",
     "text": [
      "Epoch 1/50\n",
      "3282/3282 [==============================] - 17s 5ms/step - loss: 0.0688 - val_loss: 0.0650\n",
      "Epoch 2/50\n",
      "3282/3282 [==============================] - 16s 5ms/step - loss: 0.0609 - val_loss: 0.0573\n",
      "Epoch 3/50\n",
      "3282/3282 [==============================] - 15s 4ms/step - loss: 0.0534 - val_loss: 0.0501\n",
      "Epoch 4/50\n",
      "3282/3282 [==============================] - 15s 5ms/step - loss: 0.0465 - val_loss: 0.0434\n",
      "Epoch 5/50\n",
      "3282/3282 [==============================] - 16s 5ms/step - loss: 0.0401 - val_loss: 0.0373\n",
      "Epoch 6/50\n",
      "3282/3282 [==============================] - 15s 5ms/step - loss: 0.0343 - val_loss: 0.0318\n",
      "Epoch 7/50\n",
      "3282/3282 [==============================] - 14s 4ms/step - loss: 0.0292 - val_loss: 0.0270\n",
      "Epoch 8/50\n",
      "3282/3282 [==============================] - 15s 4ms/step - loss: 0.0248 - val_loss: 0.0231\n",
      "Epoch 9/50\n",
      "3282/3282 [==============================] - 14s 4ms/step - loss: 0.0214 - val_loss: 0.0201\n",
      "Epoch 10/50\n",
      "3282/3282 [==============================] - 15s 5ms/step - loss: 0.0189 - val_loss: 0.0180\n",
      "Epoch 11/50\n",
      "3282/3282 [==============================] - 14s 4ms/step - loss: 0.0173 - val_loss: 0.0170\n",
      "Epoch 12/50\n",
      "3282/3282 [==============================] - 15s 4ms/step - loss: 0.0167 - val_loss: 0.0167\n",
      "Epoch 13/50\n",
      "3282/3282 [==============================] - 15s 4ms/step - loss: 0.0165 - val_loss: 0.0166\n",
      "Epoch 14/50\n",
      "3282/3282 [==============================] - 14s 4ms/step - loss: 0.0164 - val_loss: 0.0165\n",
      "Epoch 15/50\n",
      "3282/3282 [==============================] - 14s 4ms/step - loss: 0.0164 - val_loss: 0.0164\n",
      "Epoch 16/50\n",
      "3282/3282 [==============================] - 14s 4ms/step - loss: 0.0163 - val_loss: 0.0163\n",
      "Epoch 17/50\n",
      "3282/3282 [==============================] - 14s 4ms/step - loss: 0.0162 - val_loss: 0.0162\n",
      "Epoch 18/50\n",
      "3282/3282 [==============================] - 15s 5ms/step - loss: 0.0161 - val_loss: 0.0162\n",
      "Epoch 19/50\n",
      "3282/3282 [==============================] - 15s 5ms/step - loss: 0.0161 - val_loss: 0.0161\n",
      "Epoch 20/50\n",
      "3282/3282 [==============================] - 15s 4ms/step - loss: 0.0160 - val_loss: 0.0161\n",
      "Epoch 21/50\n",
      "3282/3282 [==============================] - 14s 4ms/step - loss: 0.0160 - val_loss: 0.0160\n",
      "Epoch 22/50\n",
      "3282/3282 [==============================] - 14s 4ms/step - loss: 0.0159 - val_loss: 0.0160\n",
      "Epoch 23/50\n",
      "3282/3282 [==============================] - 15s 5ms/step - loss: 0.0159 - val_loss: 0.0159\n",
      "Epoch 24/50\n",
      "3282/3282 [==============================] - 14s 4ms/step - loss: 0.0158 - val_loss: 0.0159\n",
      "Epoch 25/50\n",
      "3282/3282 [==============================] - 15s 5ms/step - loss: 0.0158 - val_loss: 0.0158\n",
      "Epoch 26/50\n",
      "3282/3282 [==============================] - 14s 4ms/step - loss: 0.0157 - val_loss: 0.0158\n",
      "Epoch 27/50\n",
      "3282/3282 [==============================] - 14s 4ms/step - loss: 0.0157 - val_loss: 0.0158\n",
      "Epoch 28/50\n",
      "3282/3282 [==============================] - 14s 4ms/step - loss: 0.0157 - val_loss: 0.0158\n",
      "Epoch 29/50\n",
      "3282/3282 [==============================] - 15s 5ms/step - loss: 0.0157 - val_loss: 0.0157\n",
      "Epoch 30/50\n",
      "3282/3282 [==============================] - 14s 4ms/step - loss: 0.0156 - val_loss: 0.0157\n",
      "Epoch 31/50\n",
      "3282/3282 [==============================] - 15s 4ms/step - loss: 0.0156 - val_loss: 0.0157\n",
      "Epoch 32/50\n",
      "3282/3282 [==============================] - 14s 4ms/step - loss: 0.0156 - val_loss: 0.0157\n",
      "Epoch 33/50\n",
      "3282/3282 [==============================] - 14s 4ms/step - loss: 0.0156 - val_loss: 0.0157\n",
      "Epoch 34/50\n",
      "3282/3282 [==============================] - 14s 4ms/step - loss: 0.0156 - val_loss: 0.0156\n",
      "Epoch 35/50\n",
      "3282/3282 [==============================] - 14s 4ms/step - loss: 0.0155 - val_loss: 0.0156\n",
      "Epoch 36/50\n",
      "3282/3282 [==============================] - 13s 4ms/step - loss: 0.0155 - val_loss: 0.0156\n",
      "Epoch 37/50\n",
      "3282/3282 [==============================] - 13s 4ms/step - loss: 0.0155 - val_loss: 0.0156\n",
      "Epoch 38/50\n",
      "3282/3282 [==============================] - 13s 4ms/step - loss: 0.0155 - val_loss: 0.0156\n",
      "Epoch 39/50\n",
      "3282/3282 [==============================] - 14s 4ms/step - loss: 0.0155 - val_loss: 0.0156\n",
      "Epoch 40/50\n",
      "3282/3282 [==============================] - 13s 4ms/step - loss: 0.0155 - val_loss: 0.0156\n",
      "Epoch 41/50\n",
      "3282/3282 [==============================] - 13s 4ms/step - loss: 0.0155 - val_loss: 0.0156\n",
      "Epoch 42/50\n",
      "3282/3282 [==============================] - 14s 4ms/step - loss: 0.0155 - val_loss: 0.0155\n",
      "Epoch 43/50\n",
      "3282/3282 [==============================] - 13s 4ms/step - loss: 0.0155 - val_loss: 0.0155\n",
      "Epoch 44/50\n",
      "3282/3282 [==============================] - 13s 4ms/step - loss: 0.0155 - val_loss: 0.0155\n",
      "Epoch 45/50\n",
      "3282/3282 [==============================] - 14s 4ms/step - loss: 0.0154 - val_loss: 0.0155\n",
      "Epoch 46/50\n",
      "3282/3282 [==============================] - 14s 4ms/step - loss: 0.0154 - val_loss: 0.0155\n",
      "Epoch 47/50\n",
      "3282/3282 [==============================] - 13s 4ms/step - loss: 0.0154 - val_loss: 0.0155\n",
      "Epoch 48/50\n",
      "3282/3282 [==============================] - 13s 4ms/step - loss: 0.0154 - val_loss: 0.0155\n",
      "Epoch 49/50\n",
      "3282/3282 [==============================] - 14s 4ms/step - loss: 0.0154 - val_loss: 0.0155\n",
      "Epoch 50/50\n",
      "3282/3282 [==============================] - 13s 4ms/step - loss: 0.0154 - val_loss: 0.0155\n"
     ]
    },
    {
     "data": {
      "image/png": "[encoded data removed]",
      "text/plain": [
       "<Figure size 1200x600 with 1 Axes>"
      ]
     },
     "metadata": {},
     "output_type": "display_data"
    }
   ]
  },
  {
   "cell_type": "code",
   "source": [
    "df_Pl_read_with_nan = pd.read_csv('https://docs.google.com/spreadsheets/d/e/2PACX-1vRKJzXJlQSNew0dxrQ8mFQMhBv_4owvfsF2If1b-rmxMZkR5gabHC4OiaSwt8Ul1Omc8taR27UohSeg/pub?gid=429486365&single=true&output=csv')\n",
    "df_Pl_read_with_nan = df_Pl_read_with_nan[:110]\n",
    "df_Pl_test = df_Pl[:110]\n",
    "nan_indices = df_Pl_read_with_nan.index[df_Pl_read_with_nan['P_l'].isna()]\n",
    "X_pred = df_Pl_test.loc[nan_indices]\n",
    "X_pred = X_pred[['year', 'month', 'day', 'hour', 'minute']].values\n",
    "X_pred = X_pred.reshape(-1, 1, 5)\n",
    "y_pred = model.predict(X_pred)\n",
    "y_pred = model.predict(X_pred).reshape(-1)\n",
    "df_Pl_test.loc[nan_indices, 'P_l'] = y_pred\n",
    "df_without_nan = restored_date(df_Pl_test, scaler)\n",
    "\n"
   ],
   "metadata": {
    "colab": {
     "base_uri": "https://localhost:8080/"
    },
    "id": "RGcP-ZFal63q",
    "outputId": "eb391fba-d946-4986-8408-dfa26f323a49"
   },
   "execution_count": 1,
   "outputs": [
    {
     "ename": "NameError",
     "evalue": "name 'pd' is not defined",
     "output_type": "error",
     "traceback": [
      "\u001B[0;31m---------------------------------------------------------------------------\u001B[0m",
      "\u001B[0;31mNameError\u001B[0m                                 Traceback (most recent call last)",
      "Cell \u001B[0;32mIn[1], line 1\u001B[0m\n\u001B[0;32m----> 1\u001B[0m df_Pl_read_with_nan \u001B[38;5;241m=\u001B[39m pd\u001B[38;5;241m.\u001B[39mread_csv(\u001B[38;5;124m'\u001B[39m\u001B[38;5;124mhttps://docs.google.com/spreadsheets/d/e/2PACX-1vRKJzXJlQSNew0dxrQ8mFQMhBv_4owvfsF2If1b-rmxMZkR5gabHC4OiaSwt8Ul1Omc8taR27UohSeg/pub?gid=429486365&single=true&output=csv\u001B[39m\u001B[38;5;124m'\u001B[39m)\n\u001B[1;32m      2\u001B[0m df_Pl_read_with_nan \u001B[38;5;241m=\u001B[39m df_Pl_read_with_nan[:\u001B[38;5;241m110\u001B[39m]\n\u001B[1;32m      3\u001B[0m df_Pl_test \u001B[38;5;241m=\u001B[39m df_Pl[:\u001B[38;5;241m110\u001B[39m]\n",
      "\u001B[0;31mNameError\u001B[0m: name 'pd' is not defined"
     ]
    }
   ]
  },
  {
   "cell_type": "code",
   "source": [
    "#df_without_nan = restored_date(df_Pl, scaler)\n",
    "\n",
    "print(df_without_nan)"
   ],
   "metadata": {
    "colab": {
     "base_uri": "https://localhost:8080/"
    },
    "id": "OdapYTLg-Yda",
    "outputId": "5a63f70b-e80d-4c5f-f872-5305e19d72cf"
   },
   "execution_count": 27,
   "outputs": [
    {
     "output_type": "stream",
     "name": "stdout",
     "text": [
      "              P_l    year  month   day  hour  minute                time\n",
      "0    26441.630000  2016.0    6.0  10.0  16.0    50.0 2016-06-10 16:50:00\n",
      "1    26039.196000  2016.0    6.0  10.0  16.0    55.0 2016-06-10 16:55:00\n",
      "2    21790.632000  2016.0    6.0  10.0  17.0     0.0 2016-06-10 17:00:00\n",
      "3    22824.290000  2016.0    6.0  10.0  17.0     5.0 2016-06-10 17:05:00\n",
      "4    23408.187000  2016.0    6.0  10.0  17.0    10.0 2016-06-10 17:10:00\n",
      "..            ...     ...    ...   ...   ...     ...                 ...\n",
      "105  18479.000000  2016.0    6.0  11.0   1.0    35.0 2016-06-11 01:35:00\n",
      "106  19062.800000  2016.0    6.0  11.0   1.0    40.0 2016-06-11 01:40:00\n",
      "107  18928.600000  2016.0    6.0  11.0   1.0    45.0 2016-06-11 01:45:00\n",
      "108  21215.984805  2016.0    6.0  11.0   1.0    50.0 2016-06-11 01:50:00\n",
      "109  19883.900000  2016.0    6.0  11.0   1.0    55.0 2016-06-11 01:55:00\n",
      "\n",
      "[110 rows x 7 columns]\n"
     ]
    }
   ]
  },
  {
   "cell_type": "code",
   "source": [
    "print(df_Pl_read_with_nan.iloc[187])\n",
    "print(df_without_nan.iloc[188])"
   ],
   "metadata": {
    "colab": {
     "base_uri": "https://localhost:8080/"
    },
    "id": "ZcbuMHbJqMkb",
    "outputId": "a41b1fa4-7844-4feb-95da-6f53dd03d53d"
   },
   "execution_count": 3,
   "outputs": [
    {
     "output_type": "stream",
     "name": "stdout",
     "text": [
      "time    2016-06-11 08:25:00+00:00\n",
      "P_l                      15812.65\n",
      "Name: 187, dtype: object\n",
      "P_l              22176.378924\n",
      "year                   2016.0\n",
      "month                     6.0\n",
      "day                      11.0\n",
      "hour                      8.0\n",
      "minute                   30.0\n",
      "time      2016-06-11 08:30:00\n",
      "Name: 188, dtype: object\n"
     ]
    }
   ]
  },
  {
   "cell_type": "code",
   "source": [
    "df_restored = restored_date(df_Pl, scaler)\n",
    "print(df_restored.dropna)"
   ],
   "metadata": {
    "colab": {
     "base_uri": "https://localhost:8080/"
    },
    "id": "psai2FQjmH4C",
    "outputId": "dd1aee55-2fa9-41df-f568-af51348e1125"
   },
   "execution_count": 22,
   "outputs": [
    {
     "output_type": "stream",
     "name": "stdout",
     "text": [
      "<bound method DataFrame.dropna of               P_l    year  month   day  hour  minute                time\n",
      "0       26441.630  2016.0    6.0  10.0  16.0    50.0 2016-06-10 16:50:00\n",
      "1       26039.196  2016.0    6.0  10.0  16.0    55.0 2016-06-10 16:55:00\n",
      "2       21790.632  2016.0    6.0  10.0  17.0     0.0 2016-06-10 17:00:00\n",
      "3       22824.290  2016.0    6.0  10.0  17.0     5.0 2016-06-10 17:05:00\n",
      "4       23408.187  2016.0    6.0  10.0  17.0    10.0 2016-06-10 17:10:00\n",
      "...           ...     ...    ...   ...   ...     ...                 ...\n",
      "99996   35787.600  2017.0    5.0  23.0  21.0    50.0 2017-05-23 21:50:00\n",
      "99997   37105.300  2017.0    5.0  23.0  21.0    55.0 2017-05-23 21:55:00\n",
      "99998   37788.400  2017.0    5.0  23.0  22.0     0.0 2017-05-23 22:00:00\n",
      "99999   39920.300  2017.0    5.0  23.0  22.0     5.0 2017-05-23 22:05:00\n",
      "100000  41995.600  2017.0    5.0  23.0  22.0    10.0 2017-05-23 22:10:00\n",
      "\n",
      "[100001 rows x 7 columns]>\n"
     ]
    }
   ]
  },
  {
   "cell_type": "code",
   "execution_count": null,
   "outputs": [],
   "source": [
    "#TODO"
   ],
   "metadata": {
    "collapsed": false
   }
  }
 ]
}
