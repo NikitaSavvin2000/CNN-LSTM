{
  "nbformat": 4,
  "nbformat_minor": 0,
  "metadata": {
    "colab": {
      "provenance": [],
      "authorship_tag": "ABX9TyMA2lej3wOzcQ+KxSVVZwRV",
      "include_colab_link": true
    },
    "kernelspec": {
      "name": "python3",
      "display_name": "Python 3"
    },
    "language_info": {
      "name": "python"
    }
  },
  "cells": [
    {
      "cell_type": "markdown",
      "metadata": {
        "id": "view-in-github",
        "colab_type": "text"
      },
      "source": [
        "<a href=\"https://colab.research.google.com/github/NikitaSavvin2000/CNN-LSTM/blob/main/draft.ipynb\" target=\"_parent\"><img src=\"https://colab.research.google.com/assets/colab-badge.svg\" alt=\"Open In Colab\"/></a>"
      ]
    },
    {
      "cell_type": "code",
      "execution_count": 2,
      "metadata": {
        "colab": {
          "base_uri": "https://localhost:8080/"
        },
        "id": "RKhlhsjaSgYh",
        "outputId": "1ef9d32d-8bf9-4643-bcb0-619fe47064f6"
      },
      "outputs": [
        {
          "output_type": "stream",
          "name": "stderr",
          "text": [
            "100%|██████████| 762881/762881 [44:52<00:00, 283.29it/s]\n"
          ]
        }
      ],
      "source": [
        "import pandas as pd\n",
        "import numpy as np\n",
        "from sklearn.preprocessing import MinMaxScaler\n",
        "from tensorflow.keras.models import Sequential\n",
        "from tensorflow.keras.layers import LSTM, Dense\n",
        "from tqdm import tqdm\n",
        "\n",
        "\n",
        "df_Pl = pd.read_csv('https://docs.google.com/spreadsheets/d/e/2PACX-1vRKJzXJlQSNew0dxrQ8mFQMhBv_4owvfsF2If1b-rmxMZkR5gabHC4OiaSwt8Ul1Omc8taR27UohSeg/pub?gid=429486365&single=true&output=csv')\n",
        "nan_indices = df_Pl.index[df_Pl['P_l'].isna()]\n",
        "avg_pl = df_Pl['P_l'].mean()\n",
        "\n",
        "df_Pl['P_l'].fillna(avg_pl, inplace=True)\n",
        "\n",
        "\n",
        "df_Pl['time'] = pd.to_datetime(df_Pl['time'])\n",
        "\n",
        "scaler = MinMaxScaler(feature_range=(0, 1))\n",
        "df_Pl['Scaled_P_l'] = scaler.fit_transform(df_Pl['P_l'].values.reshape(-1, 1))\n",
        "\n",
        "look_back = 10\n",
        "X, y = [], []\n",
        "\n",
        "for i in tqdm(range(len(df_Pl) - look_back)):\n",
        "    X.append(df_Pl[['Scaled_P_l', 'time']][i:(i + look_back)].values)\n",
        "    y.append(df_Pl['Scaled_P_l'][i + look_back])\n",
        "\n",
        "X, y = np.array(X), np.array(y)\n",
        "\n",
        "\n"
      ]
    },
    {
      "cell_type": "code",
      "source": [
        "from tensorflow.keras.layers import Input, concatenate, LSTM, Dense, Conv1D, MaxPooling1D, Flatten\n",
        "from tensorflow.keras.models import Model\n",
        "import numpy as np\n",
        "\n",
        "\n",
        "time_scaler = MinMaxScaler()\n",
        "\n",
        "train_size = int(len(X) * 0.9)\n",
        "test_size = len(X) - train_size\n",
        "X_train, X_test = X[0:train_size, :], X[train_size:len(X), :]\n",
        "y_train, y_test = y[0:train_size], y[train_size:len(y)]\n",
        "\n",
        "X_train = np.reshape(X_train, (X_train.shape[0], X_train.shape[1], 2))\n",
        "X_test = np.reshape(X_test, (X_test.shape[0], X_test.shape[1], 2))\n",
        "\n",
        "# Создание входов\n",
        "input_cnn = Input(shape=(X_train.shape[1], 1), name='input_cnn')\n",
        "input_lstm = Input(shape=(X_train.shape[1], 1), name='input_lstm')\n",
        "\n",
        "# Сверточный слой для признака P_l\n",
        "conv1 = Conv1D(filters=32, kernel_size=3, activation='relu')(input_cnn)\n",
        "pool1 = MaxPooling1D(pool_size=2)(conv1)\n",
        "flat1 = Flatten()(pool1)\n",
        "\n",
        "# Вход для времени\n",
        "flat2 = Flatten()(input_lstm)\n",
        "\n",
        "# Объединение выходов сверточного слоя и выходов для времени\n",
        "merged = concatenate([flat1, flat2])\n",
        "\n",
        "dense = Dense(units=50, activation='relu')(merged)\n",
        "\n",
        "output = Dense(units=1, activation='linear')(dense)\n",
        "\n",
        "model = Model(inputs=[input_cnn, input_lstm], outputs=output)\n",
        "model.compile(optimizer='adam', loss='mean_squared_error')\n",
        "\n",
        "X_train_cnn = X_train[:, :, 0:1].astype('float32')\n",
        "\n",
        "X_train_lstm = np.reshape(X_train[:, :, 1], (X_train.shape[0] * X_train.shape[1], 1))\n",
        "X_train_lstm = np.vectorize(lambda x: x.timestamp())(X_train[:, :, 1]).astype('float32')\n",
        "X_train_lstm_scaled = time_scaler.fit_transform(X_train_lstm)\n",
        "\n",
        "X_train_lstm = np.reshape(X_train_lstm_scaled, (X_train.shape[0], X_train.shape[1], 1))\n",
        "\n",
        "epochs = 10\n",
        "batch_size = 55120\n",
        "model.fit([X_train_cnn, X_train_lstm], y_train, epochs=epochs, batch_size=batch_size)\n"
      ],
      "metadata": {
        "colab": {
          "base_uri": "https://localhost:8080/"
        },
        "id": "llTGdB7uggEi",
        "outputId": "e2af27c0-94fd-46eb-9d27-2a4a95851ea9"
      },
      "execution_count": 25,
      "outputs": [
        {
          "output_type": "stream",
          "name": "stdout",
          "text": [
            "Epoch 1/10\n",
            "13/13 [==============================] - 5s 326ms/step - loss: 0.0448\n",
            "Epoch 2/10\n",
            "13/13 [==============================] - 6s 428ms/step - loss: 0.0119\n",
            "Epoch 3/10\n",
            "13/13 [==============================] - 3s 261ms/step - loss: 0.0022\n",
            "Epoch 4/10\n",
            "13/13 [==============================] - 3s 257ms/step - loss: 0.0011\n",
            "Epoch 5/10\n",
            "13/13 [==============================] - 3s 263ms/step - loss: 8.2914e-04\n",
            "Epoch 6/10\n",
            "13/13 [==============================] - 6s 447ms/step - loss: 7.0044e-04\n",
            "Epoch 7/10\n",
            "13/13 [==============================] - 4s 279ms/step - loss: 5.9902e-04\n",
            "Epoch 8/10\n",
            "13/13 [==============================] - 3s 260ms/step - loss: 5.3158e-04\n",
            "Epoch 9/10\n",
            "13/13 [==============================] - 3s 254ms/step - loss: 4.8452e-04\n",
            "Epoch 10/10\n",
            "13/13 [==============================] - 5s 412ms/step - loss: 4.1649e-04\n"
          ]
        },
        {
          "output_type": "execute_result",
          "data": {
            "text/plain": [
              "<keras.src.callbacks.History at 0x791aaf1ffee0>"
            ]
          },
          "metadata": {},
          "execution_count": 25
        }
      ]
    },
    {
      "cell_type": "code",
      "source": [
        "from google.colab import drive\n",
        "\n",
        "\n",
        "drive.mount('/content/gdrive')\n",
        "google_drive_path = '/content/gdrive/MyDrive/'\n",
        "\n",
        "model.save(google_drive_path + f'model_e_{epochs}_bs_{batch_size}.h5')\n"
      ],
      "metadata": {
        "colab": {
          "base_uri": "https://localhost:8080/"
        },
        "id": "KVwPFWw8ord_",
        "outputId": "2acfa30b-3958-4953-f487-5c403bdcc5c1"
      },
      "execution_count": 26,
      "outputs": [
        {
          "output_type": "stream",
          "name": "stdout",
          "text": [
            "Drive already mounted at /content/gdrive; to attempt to forcibly remount, call drive.mount(\"/content/gdrive\", force_remount=True).\n"
          ]
        },
        {
          "output_type": "stream",
          "name": "stderr",
          "text": [
            "/usr/local/lib/python3.10/dist-packages/keras/src/engine/training.py:3079: UserWarning: You are saving your model as an HDF5 file via `model.save()`. This file format is considered legacy. We recommend using instead the native Keras format, e.g. `model.save('my_model.keras')`.\n",
            "  saving_api.save_model(\n"
          ]
        }
      ]
    },
    {
      "cell_type": "code",
      "source": [
        "def predict_consumption(dates_to_predict, model, df_Pl, scaler, look_back):\n",
        "    dates_to_predict = pd.to_datetime(dates_to_predict)\n",
        "\n",
        "    if dates_to_predict.tzinfo is None:\n",
        "        dates_to_predict = dates_to_predict.tz_localize(df_Pl['time'].dt.tz)\n",
        "\n",
        "    X_predict_cnn = []\n",
        "    X_predict_lstm = []\n",
        "\n",
        "    for date in dates_to_predict:\n",
        "        # Получение последних look_back точек для каждой даты\n",
        "        X_predict_cnn.append(df_Pl[df_Pl['time'] <= date].tail(look_back)[['Scaled_P_l']].values)\n",
        "        X_predict_lstm.append(df_Pl[df_Pl['time'] <= date].tail(look_back)[['time']].values)\n",
        "\n",
        "    X_predict_cnn = np.array(X_predict_cnn)\n",
        "    X_predict_lstm = np.array(X_predict_lstm)\n",
        "\n",
        "    X_predict_cnn = np.reshape(X_predict_cnn, (X_predict_cnn.shape[0], X_predict_cnn.shape[1], 1))\n",
        "    X_predict_lstm[:,:,0] = (X_predict_lstm[:,:,0].astype('datetime64[s]').view('int64') - df_Pl['time'].min().timestamp()) / (df_Pl['time'].max().timestamp() - df_Pl['time'].min().timestamp())\n",
        "\n",
        "    predicted_scaled_values = model.predict([X_predict_cnn.astype('float32'), X_predict_lstm.astype('float32')])\n",
        "\n",
        "    predicted_values = scaler.inverse_transform(predicted_scaled_values)\n",
        "\n",
        "    df_predict = pd.DataFrame({'time': dates_to_predict, 'P_l': predicted_values.flatten()})\n",
        "\n",
        "    return df_predict\n"
      ],
      "metadata": {
        "id": "pU87gn9DGbqr"
      },
      "execution_count": 27,
      "outputs": []
    },
    {
      "cell_type": "code",
      "source": [
        "\n",
        "import matplotlib.pyplot as plt\n",
        "from google.colab import drive\n",
        "from tensorflow.keras.models import load_model\n",
        "\n",
        "dates_to_predict = pd.date_range(start='2023-09-11', end='2023-09-18', freq='5T')\n",
        "dates_to_predict = pd.to_datetime(dates_to_predict)\n",
        "\n",
        "google_drive_path = '/content/gdrive/MyDrive/'\n",
        "model_path = google_drive_path + f'model_e_{epochs}_bs_{batch_size}.h5'\n",
        "\n",
        "model =  load_model(model_path)\n",
        "\n",
        "predicted_df = predict_consumption(dates_to_predict, model, df_Pl, scaler, look_back)\n",
        "\n",
        "print(predicted_df)\n",
        "\n",
        "plt.figure(figsize=(14, 7))\n",
        "plt.plot(predicted_df['time'], predicted_df['P_l'], linewidth=1)\n",
        "plt.title(label=\"Predict\")\n",
        "plt.ylabel(\"P_l Value\")\n",
        "plt.xlabel(\"Time\")\n",
        "plt.show()\n"
      ],
      "metadata": {
        "colab": {
          "base_uri": "https://localhost:8080/",
          "height": 950
        },
        "id": "-G8eH9gFn7L4",
        "outputId": "8d4652a3-98bc-46dc-91fb-8ce8635fc3c2"
      },
      "execution_count": 33,
      "outputs": [
        {
          "output_type": "stream",
          "name": "stdout",
          "text": [
            "\r 1/64 [..............................] - ETA: 4s"
          ]
        },
        {
          "output_type": "stream",
          "name": "stderr",
          "text": [
            "<ipython-input-27-651962f1b8b8>:19: DeprecationWarning: parsing timezone aware datetimes is deprecated; this will raise an error in the future\n",
            "  X_predict_lstm[:,:,0] = (X_predict_lstm[:,:,0].astype('datetime64[s]').view('int64') - df_Pl['time'].min().timestamp()) / (df_Pl['time'].max().timestamp() - df_Pl['time'].min().timestamp())\n"
          ]
        },
        {
          "output_type": "stream",
          "name": "stdout",
          "text": [
            "64/64 [==============================] - 0s 2ms/step\n",
            "                          time           P_l\n",
            "0    2023-09-11 00:00:00+00:00  25321.722656\n",
            "1    2023-09-11 00:05:00+00:00  25230.236328\n",
            "2    2023-09-11 00:10:00+00:00  25160.613281\n",
            "3    2023-09-11 00:15:00+00:00  25031.306641\n",
            "4    2023-09-11 00:20:00+00:00  24735.173828\n",
            "...                        ...           ...\n",
            "2012 2023-09-17 23:40:00+00:00  31709.251953\n",
            "2013 2023-09-17 23:45:00+00:00  31709.251953\n",
            "2014 2023-09-17 23:50:00+00:00  31709.255859\n",
            "2015 2023-09-17 23:55:00+00:00  31709.255859\n",
            "2016 2023-09-18 00:00:00+00:00  31709.250000\n",
            "\n",
            "[2017 rows x 2 columns]\n"
          ]
        },
        {
          "output_type": "display_data",
          "data": {
            "text/plain": [
              "<Figure size 1400x700 with 1 Axes>"
            ],
            "image/png": "[encoded data removed]"
          },
          "metadata": {}
        }
      ]
    },
    {
      "cell_type": "code",
      "source": [
        "predicted_df.to_csv(r'/Users/nikitasavvin/predicted_df.csv')"
      ],
      "metadata": {
        "colab": {
          "base_uri": "https://localhost:8080/",
          "height": 317
        },
        "id": "ydEIGA9FFjoE",
        "outputId": "f0269516-5193-4d78-fbb1-a00845035c97"
      },
      "execution_count": 34,
      "outputs": [
        {
          "output_type": "error",
          "ename": "OSError",
          "evalue": "ignored",
          "traceback": [
            "\u001b[0;31m---------------------------------------------------------------------------\u001b[0m",
            "\u001b[0;31mOSError\u001b[0m                                   Traceback (most recent call last)",
            "\u001b[0;32m<ipython-input-34-367001d73329>\u001b[0m in \u001b[0;36m<cell line: 1>\u001b[0;34m()\u001b[0m\n\u001b[0;32m----> 1\u001b[0;31m \u001b[0mpredicted_df\u001b[0m\u001b[0;34m.\u001b[0m\u001b[0mto_csv\u001b[0m\u001b[0;34m(\u001b[0m\u001b[0;34mr'/Users/nikitasavvin/predicted_df.csv'\u001b[0m\u001b[0;34m)\u001b[0m\u001b[0;34m\u001b[0m\u001b[0;34m\u001b[0m\u001b[0m\n\u001b[0m",
            "\u001b[0;32m/usr/local/lib/python3.10/dist-packages/pandas/util/_decorators.py\u001b[0m in \u001b[0;36mwrapper\u001b[0;34m(*args, **kwargs)\u001b[0m\n\u001b[1;32m    209\u001b[0m                 \u001b[0;32melse\u001b[0m\u001b[0;34m:\u001b[0m\u001b[0;34m\u001b[0m\u001b[0;34m\u001b[0m\u001b[0m\n\u001b[1;32m    210\u001b[0m                     \u001b[0mkwargs\u001b[0m\u001b[0;34m[\u001b[0m\u001b[0mnew_arg_name\u001b[0m\u001b[0;34m]\u001b[0m \u001b[0;34m=\u001b[0m \u001b[0mnew_arg_value\u001b[0m\u001b[0;34m\u001b[0m\u001b[0;34m\u001b[0m\u001b[0m\n\u001b[0;32m--> 211\u001b[0;31m             \u001b[0;32mreturn\u001b[0m \u001b[0mfunc\u001b[0m\u001b[0;34m(\u001b[0m\u001b[0;34m*\u001b[0m\u001b[0margs\u001b[0m\u001b[0;34m,\u001b[0m \u001b[0;34m**\u001b[0m\u001b[0mkwargs\u001b[0m\u001b[0;34m)\u001b[0m\u001b[0;34m\u001b[0m\u001b[0;34m\u001b[0m\u001b[0m\n\u001b[0m\u001b[1;32m    212\u001b[0m \u001b[0;34m\u001b[0m\u001b[0m\n\u001b[1;32m    213\u001b[0m         \u001b[0;32mreturn\u001b[0m \u001b[0mcast\u001b[0m\u001b[0;34m(\u001b[0m\u001b[0mF\u001b[0m\u001b[0;34m,\u001b[0m \u001b[0mwrapper\u001b[0m\u001b[0;34m)\u001b[0m\u001b[0;34m\u001b[0m\u001b[0;34m\u001b[0m\u001b[0m\n",
            "\u001b[0;32m/usr/local/lib/python3.10/dist-packages/pandas/core/generic.py\u001b[0m in \u001b[0;36mto_csv\u001b[0;34m(self, path_or_buf, sep, na_rep, float_format, columns, header, index, index_label, mode, encoding, compression, quoting, quotechar, lineterminator, chunksize, date_format, doublequote, escapechar, decimal, errors, storage_options)\u001b[0m\n\u001b[1;32m   3718\u001b[0m         )\n\u001b[1;32m   3719\u001b[0m \u001b[0;34m\u001b[0m\u001b[0m\n\u001b[0;32m-> 3720\u001b[0;31m         return DataFrameRenderer(formatter).to_csv(\n\u001b[0m\u001b[1;32m   3721\u001b[0m             \u001b[0mpath_or_buf\u001b[0m\u001b[0;34m,\u001b[0m\u001b[0;34m\u001b[0m\u001b[0;34m\u001b[0m\u001b[0m\n\u001b[1;32m   3722\u001b[0m             \u001b[0mlineterminator\u001b[0m\u001b[0;34m=\u001b[0m\u001b[0mlineterminator\u001b[0m\u001b[0;34m,\u001b[0m\u001b[0;34m\u001b[0m\u001b[0;34m\u001b[0m\u001b[0m\n",
            "\u001b[0;32m/usr/local/lib/python3.10/dist-packages/pandas/util/_decorators.py\u001b[0m in \u001b[0;36mwrapper\u001b[0;34m(*args, **kwargs)\u001b[0m\n\u001b[1;32m    209\u001b[0m                 \u001b[0;32melse\u001b[0m\u001b[0;34m:\u001b[0m\u001b[0;34m\u001b[0m\u001b[0;34m\u001b[0m\u001b[0m\n\u001b[1;32m    210\u001b[0m                     \u001b[0mkwargs\u001b[0m\u001b[0;34m[\u001b[0m\u001b[0mnew_arg_name\u001b[0m\u001b[0;34m]\u001b[0m \u001b[0;34m=\u001b[0m \u001b[0mnew_arg_value\u001b[0m\u001b[0;34m\u001b[0m\u001b[0;34m\u001b[0m\u001b[0m\n\u001b[0;32m--> 211\u001b[0;31m             \u001b[0;32mreturn\u001b[0m \u001b[0mfunc\u001b[0m\u001b[0;34m(\u001b[0m\u001b[0;34m*\u001b[0m\u001b[0margs\u001b[0m\u001b[0;34m,\u001b[0m \u001b[0;34m**\u001b[0m\u001b[0mkwargs\u001b[0m\u001b[0;34m)\u001b[0m\u001b[0;34m\u001b[0m\u001b[0;34m\u001b[0m\u001b[0m\n\u001b[0m\u001b[1;32m    212\u001b[0m \u001b[0;34m\u001b[0m\u001b[0m\n\u001b[1;32m    213\u001b[0m         \u001b[0;32mreturn\u001b[0m \u001b[0mcast\u001b[0m\u001b[0;34m(\u001b[0m\u001b[0mF\u001b[0m\u001b[0;34m,\u001b[0m \u001b[0mwrapper\u001b[0m\u001b[0;34m)\u001b[0m\u001b[0;34m\u001b[0m\u001b[0;34m\u001b[0m\u001b[0m\n",
            "\u001b[0;32m/usr/local/lib/python3.10/dist-packages/pandas/io/formats/format.py\u001b[0m in \u001b[0;36mto_csv\u001b[0;34m(self, path_or_buf, encoding, sep, columns, index_label, mode, compression, quoting, quotechar, lineterminator, chunksize, date_format, doublequote, escapechar, errors, storage_options)\u001b[0m\n\u001b[1;32m   1187\u001b[0m             \u001b[0mformatter\u001b[0m\u001b[0;34m=\u001b[0m\u001b[0mself\u001b[0m\u001b[0;34m.\u001b[0m\u001b[0mfmt\u001b[0m\u001b[0;34m,\u001b[0m\u001b[0;34m\u001b[0m\u001b[0;34m\u001b[0m\u001b[0m\n\u001b[1;32m   1188\u001b[0m         )\n\u001b[0;32m-> 1189\u001b[0;31m         \u001b[0mcsv_formatter\u001b[0m\u001b[0;34m.\u001b[0m\u001b[0msave\u001b[0m\u001b[0;34m(\u001b[0m\u001b[0;34m)\u001b[0m\u001b[0;34m\u001b[0m\u001b[0;34m\u001b[0m\u001b[0m\n\u001b[0m\u001b[1;32m   1190\u001b[0m \u001b[0;34m\u001b[0m\u001b[0m\n\u001b[1;32m   1191\u001b[0m         \u001b[0;32mif\u001b[0m \u001b[0mcreated_buffer\u001b[0m\u001b[0;34m:\u001b[0m\u001b[0;34m\u001b[0m\u001b[0;34m\u001b[0m\u001b[0m\n",
            "\u001b[0;32m/usr/local/lib/python3.10/dist-packages/pandas/io/formats/csvs.py\u001b[0m in \u001b[0;36msave\u001b[0;34m(self)\u001b[0m\n\u001b[1;32m    239\u001b[0m         \"\"\"\n\u001b[1;32m    240\u001b[0m         \u001b[0;31m# apply compression and byte/text conversion\u001b[0m\u001b[0;34m\u001b[0m\u001b[0;34m\u001b[0m\u001b[0m\n\u001b[0;32m--> 241\u001b[0;31m         with get_handle(\n\u001b[0m\u001b[1;32m    242\u001b[0m             \u001b[0mself\u001b[0m\u001b[0;34m.\u001b[0m\u001b[0mfilepath_or_buffer\u001b[0m\u001b[0;34m,\u001b[0m\u001b[0;34m\u001b[0m\u001b[0;34m\u001b[0m\u001b[0m\n\u001b[1;32m    243\u001b[0m             \u001b[0mself\u001b[0m\u001b[0;34m.\u001b[0m\u001b[0mmode\u001b[0m\u001b[0;34m,\u001b[0m\u001b[0;34m\u001b[0m\u001b[0;34m\u001b[0m\u001b[0m\n",
            "\u001b[0;32m/usr/local/lib/python3.10/dist-packages/pandas/io/common.py\u001b[0m in \u001b[0;36mget_handle\u001b[0;34m(path_or_buf, mode, encoding, compression, memory_map, is_text, errors, storage_options)\u001b[0m\n\u001b[1;32m    732\u001b[0m     \u001b[0;31m# Only for write methods\u001b[0m\u001b[0;34m\u001b[0m\u001b[0;34m\u001b[0m\u001b[0m\n\u001b[1;32m    733\u001b[0m     \u001b[0;32mif\u001b[0m \u001b[0;34m\"r\"\u001b[0m \u001b[0;32mnot\u001b[0m \u001b[0;32min\u001b[0m \u001b[0mmode\u001b[0m \u001b[0;32mand\u001b[0m \u001b[0mis_path\u001b[0m\u001b[0;34m:\u001b[0m\u001b[0;34m\u001b[0m\u001b[0;34m\u001b[0m\u001b[0m\n\u001b[0;32m--> 734\u001b[0;31m         \u001b[0mcheck_parent_directory\u001b[0m\u001b[0;34m(\u001b[0m\u001b[0mstr\u001b[0m\u001b[0;34m(\u001b[0m\u001b[0mhandle\u001b[0m\u001b[0;34m)\u001b[0m\u001b[0;34m)\u001b[0m\u001b[0;34m\u001b[0m\u001b[0;34m\u001b[0m\u001b[0m\n\u001b[0m\u001b[1;32m    735\u001b[0m \u001b[0;34m\u001b[0m\u001b[0m\n\u001b[1;32m    736\u001b[0m     \u001b[0;32mif\u001b[0m \u001b[0mcompression\u001b[0m\u001b[0;34m:\u001b[0m\u001b[0;34m\u001b[0m\u001b[0;34m\u001b[0m\u001b[0m\n",
            "\u001b[0;32m/usr/local/lib/python3.10/dist-packages/pandas/io/common.py\u001b[0m in \u001b[0;36mcheck_parent_directory\u001b[0;34m(path)\u001b[0m\n\u001b[1;32m    595\u001b[0m     \u001b[0mparent\u001b[0m \u001b[0;34m=\u001b[0m \u001b[0mPath\u001b[0m\u001b[0;34m(\u001b[0m\u001b[0mpath\u001b[0m\u001b[0;34m)\u001b[0m\u001b[0;34m.\u001b[0m\u001b[0mparent\u001b[0m\u001b[0;34m\u001b[0m\u001b[0;34m\u001b[0m\u001b[0m\n\u001b[1;32m    596\u001b[0m     \u001b[0;32mif\u001b[0m \u001b[0;32mnot\u001b[0m \u001b[0mparent\u001b[0m\u001b[0;34m.\u001b[0m\u001b[0mis_dir\u001b[0m\u001b[0;34m(\u001b[0m\u001b[0;34m)\u001b[0m\u001b[0;34m:\u001b[0m\u001b[0;34m\u001b[0m\u001b[0;34m\u001b[0m\u001b[0m\n\u001b[0;32m--> 597\u001b[0;31m         \u001b[0;32mraise\u001b[0m \u001b[0mOSError\u001b[0m\u001b[0;34m(\u001b[0m\u001b[0;34mrf\"Cannot save file into a non-existent directory: '{parent}'\"\u001b[0m\u001b[0;34m)\u001b[0m\u001b[0;34m\u001b[0m\u001b[0;34m\u001b[0m\u001b[0m\n\u001b[0m\u001b[1;32m    598\u001b[0m \u001b[0;34m\u001b[0m\u001b[0m\n\u001b[1;32m    599\u001b[0m \u001b[0;34m\u001b[0m\u001b[0m\n",
            "\u001b[0;31mOSError\u001b[0m: Cannot save file into a non-existent directory: '/Users/nikitasavvin'"
          ]
        }
      ]
    }
  ]
}