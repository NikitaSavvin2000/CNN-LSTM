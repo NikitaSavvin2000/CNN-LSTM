{
 "cells": [
  {
   "cell_type": "code",
   "execution_count": 291,
   "outputs": [
    {
     "ename": "OSError",
     "evalue": "No file or directory found at /Users/nikitasavvin/Desktop/Учеба/CNN-LSTM/cnn_lstm_notebooks/models/model_sigmoid_rnn1_rn1_200_l5_nl1_150_e250_bs32.h5",
     "output_type": "error",
     "traceback": [
      "\u001B[0;31m---------------------------------------------------------------------------\u001B[0m",
      "\u001B[0;31mOSError\u001B[0m                                   Traceback (most recent call last)",
      "Cell \u001B[0;32mIn[291], line 15\u001B[0m\n\u001B[1;32m     12\u001B[0m \u001B[38;5;124;03m'''Имя тестируемой модели'''\u001B[39;00m\n\u001B[1;32m     13\u001B[0m model_name\u001B[38;5;241m=\u001B[39m\u001B[38;5;124m'\u001B[39m\u001B[38;5;124mmodel_sigmoid_rnn1_rn1_200_l5_nl1_150_e250_bs32.h5\u001B[39m\u001B[38;5;124m'\u001B[39m\n\u001B[0;32m---> 15\u001B[0m model \u001B[38;5;241m=\u001B[39m load_model(\u001B[38;5;124mf\u001B[39m\u001B[38;5;124m'\u001B[39m\u001B[38;5;132;01m{\u001B[39;00mhome_path_models\u001B[38;5;132;01m}\u001B[39;00m\u001B[38;5;124m/\u001B[39m\u001B[38;5;132;01m{\u001B[39;00mmodel_name\u001B[38;5;132;01m}\u001B[39;00m\u001B[38;5;124m'\u001B[39m)\n\u001B[1;32m     17\u001B[0m \u001B[38;5;124;03m'''Даты тестирования модели не должны превышать 2023-09-09 - это последняя записаная дата'''\u001B[39;00m\n\u001B[1;32m     18\u001B[0m start_date \u001B[38;5;241m=\u001B[39m \u001B[38;5;124m'\u001B[39m\u001B[38;5;124m2023-09-03\u001B[39m\u001B[38;5;124m'\u001B[39m\n",
      "File \u001B[0;32m~/anaconda3/lib/python3.11/site-packages/keras/src/saving/saving_api.py:262\u001B[0m, in \u001B[0;36mload_model\u001B[0;34m(filepath, custom_objects, compile, safe_mode, **kwargs)\u001B[0m\n\u001B[1;32m    254\u001B[0m     \u001B[38;5;28;01mreturn\u001B[39;00m saving_lib\u001B[38;5;241m.\u001B[39mload_model(\n\u001B[1;32m    255\u001B[0m         filepath,\n\u001B[1;32m    256\u001B[0m         custom_objects\u001B[38;5;241m=\u001B[39mcustom_objects,\n\u001B[1;32m    257\u001B[0m         \u001B[38;5;28mcompile\u001B[39m\u001B[38;5;241m=\u001B[39m\u001B[38;5;28mcompile\u001B[39m,\n\u001B[1;32m    258\u001B[0m         safe_mode\u001B[38;5;241m=\u001B[39msafe_mode,\n\u001B[1;32m    259\u001B[0m     )\n\u001B[1;32m    261\u001B[0m \u001B[38;5;66;03m# Legacy case.\u001B[39;00m\n\u001B[0;32m--> 262\u001B[0m \u001B[38;5;28;01mreturn\u001B[39;00m legacy_sm_saving_lib\u001B[38;5;241m.\u001B[39mload_model(\n\u001B[1;32m    263\u001B[0m     filepath, custom_objects\u001B[38;5;241m=\u001B[39mcustom_objects, \u001B[38;5;28mcompile\u001B[39m\u001B[38;5;241m=\u001B[39m\u001B[38;5;28mcompile\u001B[39m, \u001B[38;5;241m*\u001B[39m\u001B[38;5;241m*\u001B[39mkwargs\n\u001B[1;32m    264\u001B[0m )\n",
      "File \u001B[0;32m~/anaconda3/lib/python3.11/site-packages/keras/src/utils/traceback_utils.py:70\u001B[0m, in \u001B[0;36mfilter_traceback.<locals>.error_handler\u001B[0;34m(*args, **kwargs)\u001B[0m\n\u001B[1;32m     67\u001B[0m     filtered_tb \u001B[38;5;241m=\u001B[39m _process_traceback_frames(e\u001B[38;5;241m.\u001B[39m__traceback__)\n\u001B[1;32m     68\u001B[0m     \u001B[38;5;66;03m# To get the full stack trace, call:\u001B[39;00m\n\u001B[1;32m     69\u001B[0m     \u001B[38;5;66;03m# `tf.debugging.disable_traceback_filtering()`\u001B[39;00m\n\u001B[0;32m---> 70\u001B[0m     \u001B[38;5;28;01mraise\u001B[39;00m e\u001B[38;5;241m.\u001B[39mwith_traceback(filtered_tb) \u001B[38;5;28;01mfrom\u001B[39;00m \u001B[38;5;28;01mNone\u001B[39;00m\n\u001B[1;32m     71\u001B[0m \u001B[38;5;28;01mfinally\u001B[39;00m:\n\u001B[1;32m     72\u001B[0m     \u001B[38;5;28;01mdel\u001B[39;00m filtered_tb\n",
      "File \u001B[0;32m~/anaconda3/lib/python3.11/site-packages/keras/src/saving/legacy/save.py:234\u001B[0m, in \u001B[0;36mload_model\u001B[0;34m(filepath, custom_objects, compile, options)\u001B[0m\n\u001B[1;32m    232\u001B[0m \u001B[38;5;28;01mif\u001B[39;00m \u001B[38;5;28misinstance\u001B[39m(filepath_str, \u001B[38;5;28mstr\u001B[39m):\n\u001B[1;32m    233\u001B[0m     \u001B[38;5;28;01mif\u001B[39;00m \u001B[38;5;129;01mnot\u001B[39;00m tf\u001B[38;5;241m.\u001B[39mio\u001B[38;5;241m.\u001B[39mgfile\u001B[38;5;241m.\u001B[39mexists(filepath_str):\n\u001B[0;32m--> 234\u001B[0m         \u001B[38;5;28;01mraise\u001B[39;00m \u001B[38;5;167;01mIOError\u001B[39;00m(\n\u001B[1;32m    235\u001B[0m             \u001B[38;5;124mf\u001B[39m\u001B[38;5;124m\"\u001B[39m\u001B[38;5;124mNo file or directory found at \u001B[39m\u001B[38;5;132;01m{\u001B[39;00mfilepath_str\u001B[38;5;132;01m}\u001B[39;00m\u001B[38;5;124m\"\u001B[39m\n\u001B[1;32m    236\u001B[0m         )\n\u001B[1;32m    238\u001B[0m     \u001B[38;5;28;01mif\u001B[39;00m tf\u001B[38;5;241m.\u001B[39mio\u001B[38;5;241m.\u001B[39mgfile\u001B[38;5;241m.\u001B[39misdir(filepath_str):\n\u001B[1;32m    239\u001B[0m         \u001B[38;5;28;01mreturn\u001B[39;00m saved_model_load\u001B[38;5;241m.\u001B[39mload(\n\u001B[1;32m    240\u001B[0m             filepath_str, \u001B[38;5;28mcompile\u001B[39m, options\n\u001B[1;32m    241\u001B[0m         )\n",
      "\u001B[0;31mOSError\u001B[0m: No file or directory found at /Users/nikitasavvin/Desktop/Учеба/CNN-LSTM/cnn_lstm_notebooks/models/model_sigmoid_rnn1_rn1_200_l5_nl1_150_e250_bs32.h5"
     ]
    }
   ],
   "source": [
    "\n",
    "'''\n",
    "!!!МЕНЯЕМ ТОЛЬКО ЭТУ ЯЧЕЙКУ!!! ДАЛЬШЕ НИЧЕГО НЕ МЕНЯЕМ !!!\n",
    "    Блок загрузки тестируемой модели и параметров\n",
    "'''\n",
    "\n",
    "from tensorflow.keras.models import load_model\n",
    "import os\n",
    "\n",
    "\n",
    "home_path_models = os.path.abspath('models')\n",
    "\n",
    "'''Имя тестируемой модели'''\n",
    "model_name='model_sigmoid_rnn1_rn1_200_l5_nl1_150_e250_bs32.h5'\n",
    "\n",
    "model = load_model(f'{home_path_models}/{model_name}')\n",
    "\n",
    "'''Даты тестирования модели не должны превышать 2023-09-09 - это последняя записаная дата'''\n",
    "start_date = '2023-09-03'\n",
    "end_date = '2023-09-04'"
   ],
   "metadata": {
    "collapsed": false
   }
  },
  {
   "cell_type": "code",
   "execution_count": null,
   "outputs": [],
   "source": [
    "# Задаем дату до которой теоритически будем прогнозировать\n",
    "end_future_date = '2024-12-31 23:55:00+00:00'"
   ],
   "metadata": {
    "collapsed": false
   }
  },
  {
   "cell_type": "markdown",
   "source": [],
   "metadata": {
    "collapsed": false
   }
  },
  {
   "cell_type": "code",
   "execution_count": null,
   "outputs": [],
   "source": [
    "import pandas as pd\n",
    "\n",
    "\n",
    "home_path_input = os.path.abspath('input_data')\n",
    "\n",
    "# Читаем данные на которых обчали модель\n",
    "df_Pl = pd.read_csv(f'{home_path_input}/imputed_filled_P_l_LR (1).csv', sep=',')\n"
   ],
   "metadata": {
    "collapsed": false
   }
  },
  {
   "cell_type": "code",
   "execution_count": null,
   "outputs": [],
   "source": [
    "# Узнаем последнию известную дату. Нужна для создания промежутка значений будущих дат\n",
    "end_know_date = df_Pl['time'].iloc[-1]\n",
    "\n",
    "end_know_date_index = df_Pl[df_Pl['time'] == end_know_date].index[0] + 1\n"
   ],
   "metadata": {
    "collapsed": false
   }
  },
  {
   "cell_type": "code",
   "execution_count": null,
   "outputs": [],
   "source": [
    "import numpy as np\n",
    "\n",
    "# Создаем общий датасет с известными и будущими данными нужно для корректного общего нормирования данных\n",
    "\n",
    "# Добавляем 5 минут чтобы последняя известная дата не попала в список для генерации будущих дат\n",
    "\n",
    "end_know_date = pd.to_datetime(end_know_date)\n",
    "\n",
    "# Добавление 5 минут\n",
    "end_know_date = end_know_date + pd.Timedelta(minutes=5)\n",
    "\n",
    "# Преобразование обратно в строку\n",
    "end_know_date = end_know_date.strftime('%Y-%m-%d %H:%M:%S%z')\n",
    "\n",
    "future_dates = pd.date_range(start=end_know_date, end=end_future_date, freq='5T')\n",
    "\n",
    "future_df = pd.DataFrame({'time': future_dates, 'P_l': np.nan})\n",
    "\n",
    "avg_pl = df_Pl['P_l'].mean()\n",
    "\n",
    "# Заполняем Nan если они есть в датафрейме с известными данными\n",
    "df_Pl['P_l'].fillna(avg_pl, inplace=True)\n",
    "\n",
    "# Создаем общий датаферйм с известными и будущими датами для корректной нормировки данных относительно существующих и будущих дат\n",
    "df_Pl_sacler = pd.concat([df_Pl, future_df], ignore_index=True)\n"
   ],
   "metadata": {
    "collapsed": false
   }
  },
  {
   "cell_type": "code",
   "execution_count": null,
   "outputs": [],
   "source": [
    "# Функция нормировки дат относительно всех дат(известных и которых хотим прогнощировать)\n",
    "\n",
    "def normalized_df(df, scaler):\n",
    "# Преобразование времени в формат datetime\n",
    "  df['time'] = pd.to_datetime(df['time'])\n",
    "  # Создание новых столбцов\n",
    "  df['year'] = df['time'].dt.year\n",
    "  df['month'] = df['time'].dt.month\n",
    "  df['day'] = df['time'].dt.day\n",
    "  df['hour'] = df['time'].dt.hour\n",
    "  df['minute'] = df['time'].dt.minute\n",
    "\n",
    "  # Удаление исходной колонки времени\n",
    "  df = df.drop('time', axis=1)\n",
    "\n",
    "  # Нормализация данных\n",
    "  df_normalized = pd.DataFrame(scaler.fit_transform(df), columns=df.columns)\n",
    "  return df_normalized\n",
    "\n",
    "# Обратное масштабирование данных времени\n",
    "def restored_date(df_normalized, scaler):\n",
    "  df_restored = pd.DataFrame(scaler.inverse_transform(df_normalized), columns=df_normalized.columns)\n",
    "  df_restored['time'] = pd.to_datetime(df_restored[['year', 'month', 'day', 'hour', 'minute']])\n",
    "  df_restored = df_restored.drop(['year', 'month', 'day', 'hour', 'minute'], axis=1)\n",
    "  return df_restored"
   ],
   "metadata": {
    "collapsed": false
   }
  },
  {
   "cell_type": "code",
   "execution_count": null,
   "outputs": [],
   "source": [
    "from sklearn.preprocessing import MinMaxScaler\n",
    "\n",
    "# Нормализация всех данных существующих и будущих\n",
    "scaler = MinMaxScaler(feature_range=(0, 1))\n",
    "\n",
    "df_Pl_normalized_all_dates = normalized_df(df_Pl_sacler, scaler)\n"
   ],
   "metadata": {
    "collapsed": false
   }
  },
  {
   "cell_type": "code",
   "execution_count": null,
   "outputs": [],
   "source": [
    "# Данные для обучения отнормированные относительно всего промежутка(известных дат и дат для прогноза)\n",
    "\n",
    "df_Pl_normalized_initial_dates = df_Pl_normalized_all_dates.loc[: end_know_date_index-1]\n"
   ],
   "metadata": {
    "collapsed": false
   }
  },
  {
   "cell_type": "code",
   "execution_count": null,
   "outputs": [],
   "source": [
    "df_Pl_normalized_future_dates = df_Pl_normalized_all_dates.loc[end_know_date_index :]\n"
   ],
   "metadata": {
    "collapsed": false
   }
  },
  {
   "cell_type": "code",
   "execution_count": null,
   "outputs": [],
   "source": [
    "# Данные для обучения\n",
    "X_initial = df_Pl_normalized_initial_dates[['year', 'month', 'day', 'hour', 'minute']].values\n",
    "y_initial = df_Pl_normalized_initial_dates['P_l'].values\n"
   ],
   "metadata": {
    "collapsed": false
   }
  },
  {
   "cell_type": "code",
   "execution_count": null,
   "outputs": [],
   "source": [
    "\n",
    "# gреобразование в 5 мерный массив\n",
    "X_initial_train = X_initial.reshape(-1, 1, 5)\n"
   ],
   "metadata": {
    "collapsed": false
   }
  },
  {
   "cell_type": "code",
   "execution_count": null,
   "outputs": [],
   "source": [
    "from sklearn.model_selection import train_test_split\n",
    "\n",
    "# Данные для обучения\n",
    "X_initial = df_Pl_normalized_initial_dates[['year', 'month', 'day', 'hour', 'minute']].values\n",
    "y_initial = df_Pl_normalized_initial_dates['P_l'].values\n",
    "\n",
    "# Преобразование в 5-мерный массив\n",
    "X_initial_train = X_initial.reshape(-1, 1, 5)\n",
    "\n",
    "# Разделение данных на обучающий и тестовый наборы\n",
    "X_train, X_test, y_train, y_test = train_test_split(X_initial_train, y_initial, test_size=0.0001, random_state=42)\n"
   ],
   "metadata": {
    "collapsed": false
   }
  },
  {
   "cell_type": "code",
   "execution_count": null,
   "outputs": [],
   "source": [
    "import pandas as pd\n",
    "\n",
    "def get_indices_between_dates(df_Pl_sacler, start_date, end_date):\n",
    "    \"\"\"\n",
    "    Получает DataFrame, начальную и конечную даты, возвращает список индексов,\n",
    "    соответствующих датам в заданном диапазоне.\n",
    "    Нужна для получения индексов времени которые мы хотим спрогнозировать\n",
    "    Parameters:\n",
    "    - df_Pl_sacler: pandas.DataFrame\n",
    "        DataFrame с колонкой 'time', содержащей даты в формате 'yyyy-mm-dd hh:mm:ss+00:00'.\n",
    "    - start_date: str\n",
    "        Начальная дата в формате 'yyyy-mm-dd'.\n",
    "    - end_date: str\n",
    "        Конечная дата в формате 'yyyy-mm-dd'.\n",
    "\n",
    "    Returns:\n",
    "    - list\n",
    "        Список индексов, соответствующих датам в заданном диапазоне.\n",
    "    \"\"\"\n",
    "    # Преобразование колонки 'time' в формат datetime\n",
    "    df_Pl_sacler['time'] = pd.to_datetime(df_Pl_sacler['time'])\n",
    "\n",
    "    # Выборка индексов для дат в заданном диапазоне\n",
    "    indices = df_Pl_sacler.loc[(df_Pl_sacler['time'] >= start_date) & (df_Pl_sacler['time'] <= end_date)].index\n",
    "\n",
    "    return indices\n",
    "\n"
   ],
   "metadata": {
    "collapsed": false
   }
  },
  {
   "cell_type": "code",
   "execution_count": null,
   "outputs": [],
   "source": [
    "'''\n",
    "Блок получения нормированных дат для подстановки в модель\n",
    "'''\n",
    "\n",
    "\n",
    "df_Pl_all_dates = df_Pl_sacler.copy()\n",
    "\n",
    "# выбираем индексы для которых хотим сделать прогноз из общего датасета(с бущими и настоящими датами)\n",
    "indexes = get_indices_between_dates(df_Pl_all_dates, start_date, end_date)\n",
    "\n",
    "# Нормализуем датасет чтобы получить нормализованные даты чтобы корректно поместить их в модель для предсказания\n",
    "df_Pl_all_dates_normilize = normalized_df(df_Pl_all_dates, scaler)\n",
    "\n",
    "# Получаем датафрейм с нормированными датами на промежуток прогноза\n",
    "df_Pl_sacler_for_predict = df_Pl_all_dates_normilize.loc[indexes]\n",
    "\n",
    "X_predict = df_Pl_sacler_for_predict[['year', 'month', 'day', 'hour', 'minute']].values\n",
    "\n",
    "X_predict = X_predict.reshape(-1, 1, 5)"
   ],
   "metadata": {
    "collapsed": false
   }
  },
  {
   "cell_type": "code",
   "execution_count": null,
   "outputs": [],
   "source": [
    "# Предсказания\n",
    "X_predict_scaled = X_predict\n",
    "X_predict_cnn = X_predict\n",
    "X_predict_lstm = X_predict\n",
    "X_predict_rnn = X_predict\n",
    "X_predict_gpu = X_predict\n",
    "predictions = model.predict([X_predict_cnn, X_predict_gpu])\n",
    "# predictions = model.predict([X_predict_cnn, X_predict_lstm, X_predict_rnn])\n",
    "\n",
    "\n",
    "# Обратное масштабирование предсказанных значений"
   ],
   "metadata": {
    "collapsed": false
   }
  },
  {
   "cell_type": "code",
   "execution_count": null,
   "outputs": [],
   "source": [
    "df_predict = df_Pl_sacler_for_predict.copy()\n",
    "df_predict['P_l'] = predictions.flatten()\n",
    "\n",
    "df_predict = restored_date(df_predict, scaler)"
   ],
   "metadata": {
    "collapsed": false
   }
  },
  {
   "cell_type": "code",
   "execution_count": null,
   "outputs": [],
   "source": [
    "df = pd.read_csv(f'{home_path_input}/imputed_filled_P_l_LR (1).csv', sep=',')\n",
    "\n",
    "df_comporative = df.loc[indexes]"
   ],
   "metadata": {
    "collapsed": false
   }
  },
  {
   "cell_type": "code",
   "execution_count": null,
   "outputs": [],
   "source": [
    "df_comporative['time'] = df_comporative['time'].astype(df_predict['time'].dtype)\n"
   ],
   "metadata": {
    "collapsed": false
   }
  },
  {
   "cell_type": "code",
   "execution_count": null,
   "outputs": [],
   "source": [
    "from sklearn.metrics import mean_squared_error, mean_absolute_error\n",
    "\n",
    "\n",
    "def calculate_metrics(df_orig, df_test):\n",
    "    avg_pl = df_Pl['P_l'].mean()\n",
    "\n",
    "# Заполняем Nan если они есть в датафрейме с известными данными\n",
    "    df_orig['P_l'].fillna(avg_pl, inplace=True)\n",
    "\n",
    "\n",
    "\n",
    "    y_true = df_orig\n",
    "    y_pred = df_test\n",
    "\n",
    "    y_true_mean = y_true['P_l'].mean()\n",
    "        # Расчет RMSE\n",
    "    rmse = np.sqrt(mean_squared_error(y_true['P_l'].values , y_pred['P_l'].values ))\n",
    "\n",
    "    # Расчет R^2\n",
    "    ss_res = np.sum((y_true['P_l'].values  - y_pred['P_l'].values ) ** 2)\n",
    "    ss_tot = np.sum((y_true['P_l'].values  - y_true_mean) ** 2)\n",
    "    r2 = 1 - (ss_res / ss_tot)\n",
    "\n",
    "    # Расчет MAE\n",
    "    mae = mean_absolute_error(y_true['P_l'].values , y_pred['P_l'].values )\n",
    "\n",
    "    # Расчет MAPE\n",
    "    mape = np.mean(np.abs((y_true['P_l'].values - y_pred['P_l'].values) / y_true['P_l'].values)) * 100\n",
    "    # Расчет WMAPE\n",
    "    wmape = np.sum(np.abs(y_true['P_l'].values  - y_pred['P_l'].values )) / np.sum(np.abs(y_true['P_l'].values )) * 100\n",
    "\n",
    "    return rmse, r2, mae, mape, wmape"
   ],
   "metadata": {
    "collapsed": false
   }
  },
  {
   "cell_type": "code",
   "execution_count": null,
   "outputs": [],
   "source": [
    "rmse, r2, mae, mape, wmape = calculate_metrics(df_comporative, df_predict)\n"
   ],
   "metadata": {
    "collapsed": false
   }
  },
  {
   "cell_type": "code",
   "execution_count": null,
   "outputs": [],
   "source": [
    "'''Называем график по имени модели'''\n",
    "\n",
    "name_gragh = model_name[:-3]\n",
    "\n",
    "'''Путь к директории для сохранения графика'''\n",
    "home_path_save_graph = os.path.abspath('comparative_results')\n"
   ],
   "metadata": {
    "collapsed": false
   }
  },
  {
   "cell_type": "code",
   "execution_count": null,
   "outputs": [],
   "source": [
    "from matplotlib import pyplot as plt\n",
    "\n",
    "plt.figure(figsize=(14, 7))\n",
    "plt.plot(df_predict['time'], df_predict['P_l'], linewidth=1, color='y', label='Predicted')\n",
    "plt.plot(df_comporative['time'], df_comporative['P_l'], linewidth=0.1, label='Actual')\n",
    "plt.title(label=f\"Predict up {start_date} to {end_date} \\n model - {model_name}\")\n",
    "plt.ylabel(\"P_l Value\")\n",
    "plt.xlabel(\"Time\")\n",
    "plt.legend()  # Добавляем легенду\n",
    "\n",
    "# Добавляем информацию о метриках\n",
    "plt.text(0.02, 0.9, f'RMSE = {rmse}', transform=plt.gca().transAxes, fontsize=12)\n",
    "plt.text(0.02, 0.85, f'R-squared = {r2}', transform=plt.gca().transAxes, fontsize=12)\n",
    "plt.text(0.02, 0.8, f'MAE = {mae}', transform=plt.gca().transAxes, fontsize=12)\n",
    "plt.text(0.02, 0.75, f'MAPE = {mape}', transform=plt.gca().transAxes, fontsize=12)\n",
    "plt.text(0.02, 0.7, f'WMAPE = {wmape}', transform=plt.gca().transAxes, fontsize=12)\n",
    "\n",
    "plt.savefig(f'{home_path_save_graph}/{name_gragh}.png')\n",
    "\n",
    "plt.show()\n"
   ],
   "metadata": {
    "collapsed": false
   }
  }
 ],
 "metadata": {
  "kernelspec": {
   "display_name": "Python 3",
   "language": "python",
   "name": "python3"
  },
  "language_info": {
   "codemirror_mode": {
    "name": "ipython",
    "version": 2
   },
   "file_extension": ".py",
   "mimetype": "text/x-python",
   "name": "python",
   "nbconvert_exporter": "python",
   "pygments_lexer": "ipython2",
   "version": "2.7.6"
  }
 },
 "nbformat": 4,
 "nbformat_minor": 0
}
