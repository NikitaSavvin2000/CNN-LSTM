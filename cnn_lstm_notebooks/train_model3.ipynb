{
 "cells": [
  {
   "cell_type": "code",
   "execution_count": 1,
   "outputs": [],
   "source": [
    "'''\n",
    "!!!МЕНЯЕМ ТОЛЬКО ЭТУ ЯЧЕЙКУ!!! ДАЛЬШЕ НИЧЕГО НЕ МЕНЯЕМ !!!\n",
    "PS для более тонкой настройки можно менять параметры модели в блоке обучения модели(ниже)\n",
    "\n",
    "Блок параметров обучения модели\n",
    "'''\n",
    "\n",
    "#Количество нейронах в слоях\n",
    "Conv1D_filters=10\n",
    "rnn1_units = 500\n",
    "lstm1_units=2000\n",
    "lstm2_units=1000\n",
    "lstm3_units=500\n",
    "lstm4_units=250\n",
    "lstm5_units=100\n",
    "\n",
    "dense_units=50\n",
    "\n",
    "epochs = 10\n",
    "\n",
    "batch_size = 64\n"
   ],
   "metadata": {
    "collapsed": false
   }
  },
  {
   "cell_type": "code",
   "execution_count": 2,
   "outputs": [],
   "source": [
    "# Задаем дату до которой теоритически будем прогнозировать\n",
    "end_future_date = '2024-12-31 23:55:00+00:00'"
   ],
   "metadata": {
    "collapsed": false
   }
  },
  {
   "cell_type": "code",
   "execution_count": 3,
   "outputs": [],
   "source": [
    "import pandas as pd\n",
    "\n",
    "# Читаем данные на которых будем обучать модель\n",
    "df_Pl = pd.read_csv('/Users/nikitasavvin/Desktop/Учеба/CNN-LSTM/cnn_lstm_notebooks/input_data/imputed_filled_P_l_LR (1).csv')\n"
   ],
   "metadata": {
    "collapsed": false
   }
  },
  {
   "cell_type": "code",
   "execution_count": 4,
   "outputs": [],
   "source": [
    "# Узнаем последнию известную дату. Нужна для создания промежутка значений будущих дат\n",
    "end_know_date = df_Pl['time'].iloc[-1]\n",
    "\n",
    "end_know_date_index = df_Pl[df_Pl['time'] == end_know_date].index[0] + 1\n"
   ],
   "metadata": {
    "collapsed": false
   }
  },
  {
   "cell_type": "code",
   "execution_count": 5,
   "outputs": [],
   "source": [
    "import numpy as np\n",
    "\n",
    "# Создаем общий датасет с известными и будущими данными нужно для корректного общего нормирования данных\n",
    "\n",
    "# Добавляем 5 минут чтобы последняя известная дата не попала в список для генерации будущих дат\n",
    "\n",
    "end_know_date = pd.to_datetime(end_know_date)\n",
    "\n",
    "# Добавление 5 минут\n",
    "end_know_date = end_know_date + pd.Timedelta(minutes=5)\n",
    "\n",
    "# Преобразование обратно в строку\n",
    "end_know_date = end_know_date.strftime('%Y-%m-%d %H:%M:%S%z')\n",
    "\n",
    "future_dates = pd.date_range(start=end_know_date, end=end_future_date, freq='5T')\n",
    "\n",
    "future_df = pd.DataFrame({'time': future_dates, 'P_l': np.nan})\n",
    "\n",
    "avg_pl = df_Pl['P_l'].mean()\n",
    "\n",
    "# Заполняем Nan если они есть в датафрейме с известными данными\n",
    "df_Pl['P_l'].fillna(avg_pl, inplace=True)\n",
    "\n",
    "# Создаем общий датаферйм с известными и будущими датами для корректной нормировки данных относительно существующих и будущих дат\n",
    "df_Pl_sacler = pd.concat([df_Pl, future_df], ignore_index=True)\n"
   ],
   "metadata": {
    "collapsed": false
   }
  },
  {
   "cell_type": "code",
   "execution_count": 6,
   "outputs": [],
   "source": [
    "# Функция нормировки дат относительно всех дат(известных и которых хотим прогнощировать)\n",
    "\n",
    "def normalized_df(df, scaler):\n",
    "# Преобразование времени в формат datetime\n",
    "  df['time'] = pd.to_datetime(df['time'])\n",
    "  # Создание новых столбцов\n",
    "  df['year'] = df['time'].dt.year\n",
    "  df['month'] = df['time'].dt.month\n",
    "  df['day'] = df['time'].dt.day\n",
    "  df['hour'] = df['time'].dt.hour\n",
    "  df['minute'] = df['time'].dt.minute\n",
    "\n",
    "  # Удаление исходной колонки времени\n",
    "  df = df.drop('time', axis=1)\n",
    "\n",
    "  # Нормализация данных\n",
    "  df_normalized = pd.DataFrame(scaler.fit_transform(df), columns=df.columns)\n",
    "  return df_normalized\n",
    "\n",
    "# Обратное масштабирование данных времени\n",
    "def restored_date(df_normalized, scaler):\n",
    "  df_restored = pd.DataFrame(scaler.inverse_transform(df_normalized), columns=df_normalized.columns)\n",
    "  df_restored['time'] = pd.to_datetime(df_restored[['year', 'month', 'day', 'hour', 'minute']])\n",
    "  df_restored = df_restored.drop(['year', 'month', 'day', 'hour', 'minute'], axis=1)\n",
    "  return df_restored"
   ],
   "metadata": {
    "collapsed": false
   }
  },
  {
   "cell_type": "code",
   "execution_count": 7,
   "outputs": [],
   "source": [
    "from sklearn.preprocessing import MinMaxScaler\n",
    "\n",
    "# Нормализация всех данных существующих и будущих\n",
    "scaler = MinMaxScaler(feature_range=(0, 1))\n",
    "\n",
    "df_Pl_normalized_all_dates = normalized_df(df_Pl_sacler, scaler)\n"
   ],
   "metadata": {
    "collapsed": false
   }
  },
  {
   "cell_type": "code",
   "execution_count": 8,
   "outputs": [],
   "source": [
    "# Данные для обучения отнормированные относительно всего промежутка(известных дат и дат для прогноза)\n",
    "\n",
    "df_Pl_normalized_initial_dates = df_Pl_normalized_all_dates.loc[: end_know_date_index-1]\n"
   ],
   "metadata": {
    "collapsed": false
   }
  },
  {
   "cell_type": "code",
   "execution_count": 9,
   "outputs": [],
   "source": [
    "df_Pl_normalized_future_dates = df_Pl_normalized_all_dates.loc[end_know_date_index :]\n"
   ],
   "metadata": {
    "collapsed": false
   }
  },
  {
   "cell_type": "code",
   "execution_count": 10,
   "outputs": [],
   "source": [
    "# Данные для обучения\n",
    "X_initial = df_Pl_normalized_initial_dates[['year', 'month', 'day', 'hour', 'minute']].values\n",
    "y_initial = df_Pl_normalized_initial_dates['P_l'].values\n"
   ],
   "metadata": {
    "collapsed": false
   }
  },
  {
   "cell_type": "code",
   "execution_count": 11,
   "outputs": [],
   "source": [
    "\n",
    "# gреобразование в 5 мерный массив\n",
    "X_initial_train = X_initial.reshape(-1, 1, 5)\n"
   ],
   "metadata": {
    "collapsed": false
   }
  },
  {
   "cell_type": "code",
   "execution_count": 12,
   "outputs": [],
   "source": [
    "from sklearn.model_selection import train_test_split\n",
    "\n",
    "# Данные для обучения\n",
    "X_initial = df_Pl_normalized_initial_dates[['year', 'month', 'day', 'hour', 'minute']].values\n",
    "y_initial = df_Pl_normalized_initial_dates['P_l'].values\n",
    "\n",
    "# Преобразование в 5-мерный массив\n",
    "X_initial_train = X_initial.reshape(-1, 1, 5)\n",
    "\n",
    "# Разделение данных на обучающий и тестовый наборы\n",
    "X_train, X_test, y_train, y_test = train_test_split(X_initial_train, y_initial, test_size=0.01, random_state=42)\n"
   ],
   "metadata": {
    "collapsed": false
   }
  },
  {
   "cell_type": "code",
   "execution_count": null,
   "outputs": [
    {
     "name": "stdout",
     "output_type": "stream",
     "text": [
      "Epoch 1/10\n",
      " 1536/11801 [==>...........................] - ETA: 30:10 - loss: 0.0053"
     ]
    }
   ],
   "source": [
    "\n",
    "'''\n",
    "Блок обучения модели\n",
    "'''\n",
    "#можно менять параметры активации количество слоев и прочее\n",
    "\n",
    "from tensorflow.keras.layers import Input, SimpleRNN, LSTM, Dense, Conv1D, MaxPooling1D, Flatten, concatenate\n",
    "from tensorflow.keras.models import Model\n",
    "\n",
    "# Создание входов\n",
    "input_rnn = Input(shape=(1, 5), name='input_cnn')\n",
    "input_lstm = Input(shape=(1, 5), name='input_lstm')\n",
    "\n",
    "rnn1 = SimpleRNN(units=rnn1_units, activation='sigmoid')(input_rnn)\n",
    "  # изменено kernel_size на 1\n",
    "# pool1 = MaxPooling1D(pool_size=1)(conv1)\n",
    "# flat1 = Flatten()(pool1)\n",
    "\n",
    "lstm1 = LSTM(units=lstm1_units, activation='sigmoid', return_sequences=True)(input_lstm)\n",
    "lstm2 = LSTM(units=lstm2_units, activation='sigmoid', return_sequences=True)(lstm1)\n",
    "lstm3 = LSTM(units=lstm3_units, activation='sigmoid', return_sequences=True)(lstm2)\n",
    "lstm4 = LSTM(units=lstm4_units, activation='sigmoid', return_sequences=True)(lstm3)\n",
    "lstm5 = LSTM(units=lstm5_units, activation='sigmoid')(lstm4)\n",
    "\n",
    "# Объединение выходов сверточного слоя и выходов для времени\n",
    "merged = concatenate([rnn1, lstm5])\n",
    "\n",
    "dense = Dense(units=dense_units, activation='sigmoid')(merged)\n",
    "\n",
    "output = Dense(units=1, activation='sigmoid')(dense)\n",
    "\n",
    "model = Model(inputs=[input_rnn, input_lstm], outputs=output)\n",
    "model.compile(optimizer='adam', loss='mean_squared_error')\n",
    "\n",
    "# Обучение модели\n",
    "epochs = epochs\n",
    "batch_size = batch_size\n",
    "model.fit([X_train, X_train], y_train, epochs=epochs, batch_size=batch_size)\n"
   ],
   "metadata": {
    "collapsed": false,
    "pycharm": {
     "is_executing": true
    }
   }
  },
  {
   "cell_type": "code",
   "execution_count": null,
   "outputs": [],
   "source": [
    "'''\n",
    "Нейминг моделей\n",
    "model_c{count}_nc{cont}_l{count}_nl{count}_e{count}_bs{count}\n",
    "где c{count} - количество cnn слоев\n",
    "nc{cont} -  количество нейронов cnn слоев (если несколько то через _)\n",
    "l{count} - количество lstm слоев\n",
    "nl{count} - количество нейронов lstm слоев (если несколько то через _)\n",
    "e{count} - количество эпох обучения\n",
    "bs{count} - batch_size\n",
    "'''\n",
    "import os\n",
    "\n",
    "\n",
    "home_path_models = os.path.abspath('models')\n",
    "\n",
    "\n",
    "model_name = f'model_sigmoid_rnn{1}_rn1_{rnn1_units}_l{5}_nl1_{lstm1_units}_nl2_{lstm2_units}_nl3_{lstm3_units}_e{epochs}_bs{batch_size}.h5'\n",
    "\n",
    "model.save(f'{home_path_models}/{model_name}')\n"
   ],
   "metadata": {
    "collapsed": false,
    "pycharm": {
     "is_executing": true
    }
   }
  },
  {
   "cell_type": "code",
   "execution_count": null,
   "outputs": [],
   "source": [
    "model_name"
   ],
   "metadata": {
    "collapsed": false,
    "pycharm": {
     "is_executing": true
    }
   }
  },
  {
   "cell_type": "code",
   "execution_count": null,
   "outputs": [],
   "source": [],
   "metadata": {
    "collapsed": false,
    "pycharm": {
     "is_executing": true
    }
   }
  }
 ],
 "metadata": {
  "kernelspec": {
   "display_name": "Python 3",
   "language": "python",
   "name": "python3"
  },
  "language_info": {
   "codemirror_mode": {
    "name": "ipython",
    "version": 2
   },
   "file_extension": ".py",
   "mimetype": "text/x-python",
   "name": "python",
   "nbconvert_exporter": "python",
   "pygments_lexer": "ipython2",
   "version": "2.7.6"
  }
 },
 "nbformat": 4,
 "nbformat_minor": 0
}
