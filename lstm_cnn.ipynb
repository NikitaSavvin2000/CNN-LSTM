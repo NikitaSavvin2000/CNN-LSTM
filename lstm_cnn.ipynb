{
  "nbformat": 4,
  "nbformat_minor": 0,
  "metadata": {
    "colab": {
      "provenance": [],
      "authorship_tag": "ABX9TyP5pI489JFmpf3exHP7qN8G",
      "include_colab_link": true
    },
    "kernelspec": {
      "name": "python3",
      "display_name": "Python 3"
    },
    "language_info": {
      "name": "python"
    }
  },
  "cells": [
    {
      "cell_type": "markdown",
      "metadata": {
        "id": "view-in-github",
        "colab_type": "text"
      },
      "source": [
        "<a href=\"https://colab.research.google.com/github/NikitaSavvin2000/CNN-LSTM/blob/main/lstm_cnn.ipynb\" target=\"_parent\"><img src=\"https://colab.research.google.com/assets/colab-badge.svg\" alt=\"Open In Colab\"/></a>"
      ]
    },
    {
      "cell_type": "code",
      "execution_count": 3,
      "metadata": {
        "colab": {
          "base_uri": "https://localhost:8080/"
        },
        "id": "RKhlhsjaSgYh",
        "outputId": "4c9a3d8f-f1bd-4b3d-c849-ad21baf232c7"
      },
      "outputs": [
        {
          "output_type": "stream",
          "name": "stderr",
          "text": [
            "100%|██████████| 762881/762881 [46:52<00:00, 271.25it/s]\n"
          ]
        }
      ],
      "source": [
        "import pandas as pd\n",
        "import numpy as np\n",
        "from sklearn.preprocessing import MinMaxScaler\n",
        "from tensorflow.keras.models import Sequential\n",
        "from tensorflow.keras.layers import LSTM, Dense\n",
        "from tqdm import tqdm\n",
        "# Загрузка данных\n",
        "# Предполагается, что у вас есть DataFrame df_Pl с колонками \"time\" и \"P_l\"\n",
        "# \"time\" содержит временной ряд в формате 'yyyy-mm-dd hh-mm-ss'\n",
        "# \"P_l\" содержит значения энергопотребления\n",
        "\n",
        "df_Pl = pd.read_csv('https://docs.google.com/spreadsheets/d/e/2PACX-1vRKJzXJlQSNew0dxrQ8mFQMhBv_4owvfsF2If1b-rmxMZkR5gabHC4OiaSwt8Ul1Omc8taR27UohSeg/pub?gid=429486365&single=true&output=csv')\n",
        "nan_indices = df_Pl.index[df_Pl['P_l'].isna()]\n",
        "avg_pl = df_Pl['P_l'].mean()\n",
        "\n",
        "df_Pl['P_l'].fillna(avg_pl, inplace=True)\n",
        "\n",
        "\n",
        "# Преобразование времени в формат datetime\n",
        "df_Pl['time'] = pd.to_datetime(df_Pl['time'])\n",
        "\n",
        "# Нормализация данных\n",
        "scaler = MinMaxScaler(feature_range=(0, 1))\n",
        "df_Pl['Scaled_P_l'] = scaler.fit_transform(df_Pl['P_l'].values.reshape(-1, 1))\n",
        "print()\n",
        "# Создание временных последовательностей\n",
        "look_back = 10  # можно изменить в зависимости от требований\n",
        "X, y = [], []\n",
        "\n",
        "for i in tqdm(range(len(df_Pl) - look_back)):\n",
        "    X.append(df_Pl[['Scaled_P_l', 'time']][i:(i + look_back)].values)\n",
        "    y.append(df_Pl['Scaled_P_l'][i + look_back])\n",
        "\n",
        "X, y = np.array(X), np.array(y)\n",
        "\n",
        "\n"
      ]
    },
    {
      "cell_type": "code",
      "source": [
        "from tensorflow.keras.layers import Input, concatenate, LSTM, Dense, Conv1D, MaxPooling1D, Flatten\n",
        "from tensorflow.keras.models import Model\n",
        "import numpy as np\n",
        "\n",
        "# Разделение на обучающий и тестовый наборы\n",
        "train_size = int(len(X) * 0.9)\n",
        "test_size = len(X) - train_size\n",
        "X_train, X_test = X[0:train_size, :], X[train_size:len(X), :]\n",
        "y_train, y_test = y[0:train_size], y[train_size:len(y)]\n",
        "\n",
        "# Преобразование данных в формат, подходящий для LSTM и CNN\n",
        "X_train = np.reshape(X_train, (X_train.shape[0], X_train.shape[1], 2))\n",
        "X_test = np.reshape(X_test, (X_test.shape[0], X_test.shape[1], 2))\n",
        "\n",
        "# Создание входов\n",
        "input_cnn = Input(shape=(X_train.shape[1], 1), name='input_cnn')\n",
        "input_lstm = Input(shape=(X_train.shape[1], 1), name='input_lstm')\n",
        "\n",
        "# Сверточный слой для признака P_l\n",
        "conv1 = Conv1D(filters=32, kernel_size=3, activation='relu')(input_cnn)\n",
        "pool1 = MaxPooling1D(pool_size=2)(conv1)\n",
        "flat1 = Flatten()(pool1)\n",
        "\n",
        "# Вход для времени\n",
        "flat2 = Flatten()(input_lstm)\n",
        "\n",
        "# Объединение выходов сверточного слоя и выходов для времени\n",
        "merged = concatenate([flat1, flat2])\n",
        "\n",
        "# Полносвязный слой\n",
        "dense = Dense(units=50, activation='relu')(merged)\n",
        "\n",
        "# Выходной слой\n",
        "output = Dense(units=1, activation='linear')(dense)\n",
        "\n",
        "# Создание и обучение модели\n",
        "model = Model(inputs=[input_cnn, input_lstm], outputs=output)\n",
        "model.compile(optimizer='adam', loss='mean_squared_error')\n",
        "\n",
        "X_train_cnn = X_train[:, :, 0:1].astype('float32')\n",
        "X_train_lstm = np.vectorize(lambda x: x.timestamp())(X_train[:, :, 1]).astype('float32')\n",
        "model.fit([X_train_cnn, X_train_lstm], y_train, epochs=100, batch_size=32)\n"
      ],
      "metadata": {
        "id": "llTGdB7uggEi"
      },
      "execution_count": null,
      "outputs": []
    },
    {
      "cell_type": "code",
      "source": [
        "from google.colab import drive\n",
        "\n",
        "\n",
        "# Подключение Google Drive\n",
        "drive.mount('/content/gdrive')\n",
        "# Путь к Google Drive\n",
        "google_drive_path = '/content/gdrive/MyDrive/'\n",
        "\n",
        "# Сохранение модели\n",
        "model.save(google_drive_path + 'your_model_0.h5')\n"
      ],
      "metadata": {
        "colab": {
          "base_uri": "https://localhost:8080/"
        },
        "id": "KVwPFWw8ord_",
        "outputId": "c1fd7fc4-addd-4c5c-8067-60ec9fc006f1"
      },
      "execution_count": 27,
      "outputs": [
        {
          "output_type": "stream",
          "name": "stdout",
          "text": [
            "Drive already mounted at /content/gdrive; to attempt to forcibly remount, call drive.mount(\"/content/gdrive\", force_remount=True).\n"
          ]
        }
      ]
    },
    {
      "cell_type": "code",
      "source": [
        "def predict_energy_consumption(dates_to_predict, model, df_Pl, scaler, look_back):\n",
        "    # Преобразование входных дат в формат datetime\n",
        "    dates_to_predict = pd.to_datetime(dates_to_predict)\n",
        "\n",
        "    # Установка временной зоны для dates_to_predict, если она отсутствует\n",
        "    if dates_to_predict.tzinfo is None:\n",
        "        dates_to_predict = dates_to_predict.tz_localize(df_Pl['time'].dt.tz)\n",
        "\n",
        "    # Создание временных последовательностей для прогноза\n",
        "    X_predict = []\n",
        "\n",
        "    for date in dates_to_predict:\n",
        "        # Получение последних look_back точек для каждой даты\n",
        "        X_predict.append(df_Pl[df_Pl['time'] <= date].tail(look_back)[['Scaled_P_l', 'time']].values)\n",
        "\n",
        "    X_predict = np.array(X_predict)\n",
        "\n",
        "    # Преобразование данных в формат, подходящий для LSTM\n",
        "    min_time = df_Pl['time'].min().timestamp()\n",
        "    max_time = df_Pl['time'].max().timestamp()\n",
        "\n",
        "    X_predict[:,:,1] = (X_predict[:,:,1].astype('datetime64[s]').view('int64') - min_time) / (max_time - min_time)\n",
        "\n",
        "    # Предсказание энергопотребления\n",
        "    predicted_scaled_values = model.predict(X_predict.astype('float32'))  # Convert to float32\n",
        "\n",
        "    # Инвертирование нормализации для получения итоговых прогнозов\n",
        "    predicted_values = scaler.inverse_transform(predicted_scaled_values)\n",
        "\n",
        "    # Создание DataFrame с прогнозами\n",
        "    df_predict = pd.DataFrame({'time': dates_to_predict, 'P_l': predicted_values.flatten()})\n",
        "\n",
        "    return df_predict\n"
      ],
      "metadata": {
        "id": "zgxY7Y_-Bl5D"
      },
      "execution_count": 54,
      "outputs": []
    },
    {
      "cell_type": "code",
      "source": [
        "def predict_energy_consumption(dates_to_predict, model, df_Pl, scaler, look_back):\n",
        "    # Преобразование входных дат в формат datetime\n",
        "    dates_to_predict = pd.to_datetime(dates_to_predict)\n",
        "\n",
        "    # Установка временной зоны для dates_to_predict, если она отсутствует\n",
        "    if dates_to_predict.tzinfo is None:\n",
        "        dates_to_predict = dates_to_predict.tz_localize(df_Pl['time'].dt.tz)\n",
        "\n",
        "    # Создание временных последовательностей для прогноза\n",
        "    X_predict_cnn = []\n",
        "    X_predict_lstm = []\n",
        "\n",
        "    for date in dates_to_predict:\n",
        "        # Получение последних look_back точек для каждой даты\n",
        "        X_predict_cnn.append(df_Pl[df_Pl['time'] <= date].tail(look_back)[['Scaled_P_l']].values)\n",
        "        X_predict_lstm.append(df_Pl[df_Pl['time'] <= date].tail(look_back)[['time']].values)\n",
        "\n",
        "    X_predict_cnn = np.array(X_predict_cnn)\n",
        "    X_predict_lstm = np.array(X_predict_lstm)\n",
        "\n",
        "    # Преобразование данных в формат, подходящий для LSTM и CNN\n",
        "    X_predict_cnn = np.reshape(X_predict_cnn, (X_predict_cnn.shape[0], X_predict_cnn.shape[1], 1))\n",
        "    X_predict_lstm[:,:,0] = (X_predict_lstm[:,:,0].astype('datetime64[s]').view('int64') - df_Pl['time'].min().timestamp()) / (df_Pl['time'].max().timestamp() - df_Pl['time'].min().timestamp())\n",
        "\n",
        "    # Предсказание энергопотребления\n",
        "    predicted_scaled_values = model.predict([X_predict_cnn.astype('float32'), X_predict_lstm.astype('float32')])\n",
        "\n",
        "    # Инвертирование нормализации для получения итоговых прогнозов\n",
        "    predicted_values = scaler.inverse_transform(predicted_scaled_values)\n",
        "\n",
        "    # Создание DataFrame с прогнозами\n",
        "    df_predict = pd.DataFrame({'time': dates_to_predict, 'P_l': predicted_values.flatten()})\n",
        "\n",
        "    return df_predict\n"
      ],
      "metadata": {
        "id": "pU87gn9DGbqr"
      },
      "execution_count": 56,
      "outputs": []
    },
    {
      "cell_type": "code",
      "source": [
        "# Функция для прогнозирования\n",
        "# Пример использования функции для прогнозирования\n",
        "import matplotlib.pyplot as plt\n",
        "from google.colab import drive\n",
        "from tensorflow.keras.models import load_model\n",
        "\n",
        "# Приведение временных меток из pd.date_range к типу Timestamp\n",
        "dates_to_predict = pd.date_range(start='2023-09-01', end='2023-09-10', freq='5T')\n",
        "dates_to_predict = pd.to_datetime(dates_to_predict)\n",
        "\n",
        "# Замените 'your_model_path' на путь к вашей модели\n",
        "# Путь к модели в Google Drive\n",
        "google_drive_path = '/content/gdrive/MyDrive/'\n",
        "model_path = google_drive_path + 'your_model_0.h5'\n",
        "\n",
        "# Загрузка модели\n",
        "model =  load_model(model_path)\n",
        "\n",
        "# Замените параметры на свои значения\n",
        "predicted_df = predict_energy_consumption(dates_to_predict, model, df_Pl, scaler, look_back)\n",
        "\n",
        "# Вывод результатов\n",
        "print(predicted_df)\n",
        "\n",
        "plt.figure(figsize=(14, 7))\n",
        "plt.plot(predicted_df['time'], predicted_df['P_l'], linewidth=0.2)\n",
        "plt.title(label=\"Dataset with Filled Values using Poisson method. Count gaps = 10%\")\n",
        "plt.ylabel(\"P_l Value\")\n",
        "plt.xlabel(\"Time\")\n",
        "plt.show()\n"
      ],
      "metadata": {
        "colab": {
          "base_uri": "https://localhost:8080/",
          "height": 950
        },
        "id": "-G8eH9gFn7L4",
        "outputId": "edce6b7d-d8db-4268-ee46-382a43e24e53"
      },
      "execution_count": 57,
      "outputs": [
        {
          "output_type": "stream",
          "name": "stderr",
          "text": [
            "<ipython-input-56-9a7794c5f66d>:23: DeprecationWarning: parsing timezone aware datetimes is deprecated; this will raise an error in the future\n",
            "  X_predict_lstm[:,:,0] = (X_predict_lstm[:,:,0].astype('datetime64[s]').view('int64') - df_Pl['time'].min().timestamp()) / (df_Pl['time'].max().timestamp() - df_Pl['time'].min().timestamp())\n"
          ]
        },
        {
          "output_type": "stream",
          "name": "stdout",
          "text": [
            "82/82 [==============================] - 0s 2ms/step\n",
            "                          time           P_l\n",
            "0    2023-09-01 00:00:00+00:00  26994.341797\n",
            "1    2023-09-01 00:05:00+00:00  26994.341797\n",
            "2    2023-09-01 00:10:00+00:00  26994.341797\n",
            "3    2023-09-01 00:15:00+00:00  26994.341797\n",
            "4    2023-09-01 00:20:00+00:00  26994.341797\n",
            "...                        ...           ...\n",
            "2588 2023-09-09 23:40:00+00:00  26994.341797\n",
            "2589 2023-09-09 23:45:00+00:00  26994.341797\n",
            "2590 2023-09-09 23:50:00+00:00  26994.341797\n",
            "2591 2023-09-09 23:55:00+00:00  26994.341797\n",
            "2592 2023-09-10 00:00:00+00:00  26994.341797\n",
            "\n",
            "[2593 rows x 2 columns]\n"
          ]
        },
        {
          "output_type": "display_data",
          "data": {
            "text/plain": [
              "<Figure size 1400x700 with 1 Axes>"
            ],
            "image/png": "[encoded data removed]"
          },
          "metadata": {}
        }
      ]
    }
  ]
}